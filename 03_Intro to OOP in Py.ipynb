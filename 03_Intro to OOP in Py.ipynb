{
 "cells": [
  {
   "cell_type": "code",
   "execution_count": 8,
   "id": "b899aeb7",
   "metadata": {},
   "outputs": [],
   "source": [
    "class Phone:\n",
    "    \n",
    "    def makeCall(self):\n",
    "        print(\"Making phone call.\")\n",
    "        \n",
    "    def sendSms(self):\n",
    "        print(\"Sending sms.\")"
   ]
  },
  {
   "cell_type": "code",
   "execution_count": 9,
   "id": "385c1ab5",
   "metadata": {},
   "outputs": [],
   "source": [
    "p1 = Phone()"
   ]
  },
  {
   "cell_type": "code",
   "execution_count": 10,
   "id": "915579b3",
   "metadata": {},
   "outputs": [
    {
     "name": "stdout",
     "output_type": "stream",
     "text": [
      "Making phone call.\n"
     ]
    }
   ],
   "source": [
    "p1.makeCall()"
   ]
  },
  {
   "cell_type": "code",
   "execution_count": 11,
   "id": "fd15a20f",
   "metadata": {},
   "outputs": [
    {
     "name": "stdout",
     "output_type": "stream",
     "text": [
      "Sending sms.\n"
     ]
    }
   ],
   "source": [
    "p1.sendSms()"
   ]
  },
  {
   "cell_type": "code",
   "execution_count": 13,
   "id": "98d0fa48",
   "metadata": {},
   "outputs": [],
   "source": [
    "class Phone:\n",
    "    def set_color(self, color):\n",
    "        self.color = color\n",
    "        \n",
    "    def set_cost(self, cost):\n",
    "        self.cost = cost\n",
    "        \n",
    "    def show_color(self):\n",
    "        return self.color\n",
    "    \n",
    "    def show_cost(self):\n",
    "        return self.cost\n",
    "    \n",
    "    def makeCall(self):\n",
    "        print(\"Making phone call.\")\n",
    "        \n",
    "    def sendSms(self):\n",
    "        print(\"Sending sms.\")\n",
    "    "
   ]
  },
  {
   "cell_type": "code",
   "execution_count": 14,
   "id": "2c74ad17",
   "metadata": {},
   "outputs": [],
   "source": [
    "p1 = Phone()"
   ]
  },
  {
   "cell_type": "code",
   "execution_count": 15,
   "id": "e7803fe4",
   "metadata": {},
   "outputs": [],
   "source": [
    "p1.set_color(\"red\")"
   ]
  },
  {
   "cell_type": "code",
   "execution_count": 16,
   "id": "2afc3f58",
   "metadata": {},
   "outputs": [
    {
     "data": {
      "text/plain": [
       "'red'"
      ]
     },
     "execution_count": 16,
     "metadata": {},
     "output_type": "execute_result"
    }
   ],
   "source": [
    "p1.show_color()"
   ]
  },
  {
   "cell_type": "code",
   "execution_count": 17,
   "id": "d8a9f084",
   "metadata": {},
   "outputs": [],
   "source": [
    "p1.set_cost(8700)"
   ]
  },
  {
   "cell_type": "code",
   "execution_count": 18,
   "id": "9505754f",
   "metadata": {},
   "outputs": [
    {
     "data": {
      "text/plain": [
       "8700"
      ]
     },
     "execution_count": 18,
     "metadata": {},
     "output_type": "execute_result"
    }
   ],
   "source": [
    "p1.show_cost()"
   ]
  },
  {
   "cell_type": "code",
   "execution_count": 19,
   "id": "8c8e7b5f",
   "metadata": {},
   "outputs": [
    {
     "name": "stdout",
     "output_type": "stream",
     "text": [
      "Making phone call.\n"
     ]
    }
   ],
   "source": [
    "p1.makeCall()"
   ]
  },
  {
   "cell_type": "code",
   "execution_count": 29,
   "id": "7fc48b62",
   "metadata": {},
   "outputs": [],
   "source": [
    "class Employee:\n",
    "    \n",
    "    def __init__(self, name, age, salary, gender):\n",
    "        self.name = name\n",
    "        self.age = age\n",
    "        self.salary = salary\n",
    "        self.gender = gender\n",
    "        \n",
    "    def emp_details(self):\n",
    "        print(\"Name:\",self.name)\n",
    "        print(\"Age:\",self.age)"
   ]
  },
  {
   "cell_type": "code",
   "execution_count": 30,
   "id": "16df0e5b",
   "metadata": {},
   "outputs": [
    {
     "ename": "TypeError",
     "evalue": "Employee.__init__() missing 4 required positional arguments: 'name', 'age', 'salary', and 'gender'",
     "output_type": "error",
     "traceback": [
      "\u001b[1;31m---------------------------------------------------------------------------\u001b[0m",
      "\u001b[1;31mTypeError\u001b[0m                                 Traceback (most recent call last)",
      "Cell \u001b[1;32mIn[30], line 1\u001b[0m\n\u001b[1;32m----> 1\u001b[0m e1 \u001b[38;5;241m=\u001b[39m \u001b[43mEmployee\u001b[49m\u001b[43m(\u001b[49m\u001b[43m)\u001b[49m\n",
      "\u001b[1;31mTypeError\u001b[0m: Employee.__init__() missing 4 required positional arguments: 'name', 'age', 'salary', and 'gender'"
     ]
    }
   ],
   "source": [
    "e1 = Employee()"
   ]
  },
  {
   "cell_type": "code",
   "execution_count": 31,
   "id": "e8d9978b",
   "metadata": {},
   "outputs": [],
   "source": [
    "e1 = Employee('Sagar', 21, 150000, 'Male')"
   ]
  },
  {
   "cell_type": "code",
   "execution_count": 32,
   "id": "e0587c53",
   "metadata": {},
   "outputs": [
    {
     "name": "stdout",
     "output_type": "stream",
     "text": [
      "Name: Sagar\n",
      "Age: 21\n"
     ]
    }
   ],
   "source": [
    "e1.emp_details()"
   ]
  },
  {
   "cell_type": "code",
   "execution_count": 1,
   "id": "8a0c5433",
   "metadata": {},
   "outputs": [
    {
     "name": "stdout",
     "output_type": "stream",
     "text": [
      "sagar\n"
     ]
    }
   ],
   "source": [
    "print(\"sagar\")"
   ]
  },
  {
   "cell_type": "code",
   "execution_count": 1,
   "id": "3ccbce9b",
   "metadata": {},
   "outputs": [],
   "source": [
    "a = 10"
   ]
  },
  {
   "cell_type": "code",
   "execution_count": 2,
   "id": "869bc38d",
   "metadata": {},
   "outputs": [],
   "source": [
    "b = 4"
   ]
  },
  {
   "cell_type": "code",
   "execution_count": 3,
   "id": "7cf55268",
   "metadata": {},
   "outputs": [
    {
     "name": "stdout",
     "output_type": "stream",
     "text": [
      "14\n"
     ]
    }
   ],
   "source": [
    "print(a+b)"
   ]
  },
  {
   "cell_type": "code",
   "execution_count": null,
   "id": "1f83a8fa",
   "metadata": {},
   "outputs": [],
   "source": []
  },
  {
   "cell_type": "code",
   "execution_count": null,
   "id": "622cc472",
   "metadata": {},
   "outputs": [],
   "source": []
  }
 ],
 "metadata": {
  "kernelspec": {
   "display_name": "Python 3 (ipykernel)",
   "language": "python",
   "name": "python3"
  },
  "language_info": {
   "codemirror_mode": {
    "name": "ipython",
    "version": 3
   },
   "file_extension": ".py",
   "mimetype": "text/x-python",
   "name": "python",
   "nbconvert_exporter": "python",
   "pygments_lexer": "ipython3",
   "version": "3.10.9"
  }
 },
 "nbformat": 4,
 "nbformat_minor": 5
}
