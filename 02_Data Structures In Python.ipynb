{
 "cells": [
  {
   "cell_type": "code",
   "execution_count": 1,
   "id": "629de56f",
   "metadata": {},
   "outputs": [],
   "source": [
    "tup1 = (1, 'Sagar', 45.23, False)"
   ]
  },
  {
   "cell_type": "code",
   "execution_count": 2,
   "id": "4ae930f3",
   "metadata": {},
   "outputs": [
    {
     "name": "stdout",
     "output_type": "stream",
     "text": [
      "(1, 'Sagar', 45.23, False)\n"
     ]
    }
   ],
   "source": [
    "print(tup1)"
   ]
  },
  {
   "cell_type": "code",
   "execution_count": 3,
   "id": "55f7c4ea",
   "metadata": {},
   "outputs": [
    {
     "ename": "NameError",
     "evalue": "name 'tup' is not defined",
     "output_type": "error",
     "traceback": [
      "\u001b[1;31m---------------------------------------------------------------------------\u001b[0m",
      "\u001b[1;31mNameError\u001b[0m                                 Traceback (most recent call last)",
      "Cell \u001b[1;32mIn[3], line 1\u001b[0m\n\u001b[1;32m----> 1\u001b[0m \u001b[43mtup\u001b[49m[\u001b[38;5;241m1\u001b[39m]\n",
      "\u001b[1;31mNameError\u001b[0m: name 'tup' is not defined"
     ]
    }
   ],
   "source": [
    "tup[1]"
   ]
  },
  {
   "cell_type": "code",
   "execution_count": 4,
   "id": "01fb7bed",
   "metadata": {},
   "outputs": [
    {
     "data": {
      "text/plain": [
       "'Sagar'"
      ]
     },
     "execution_count": 4,
     "metadata": {},
     "output_type": "execute_result"
    }
   ],
   "source": [
    "tup1[1]"
   ]
  },
  {
   "cell_type": "code",
   "execution_count": 5,
   "id": "e9f5bea7",
   "metadata": {},
   "outputs": [
    {
     "ename": "NameError",
     "evalue": "name 'tup' is not defined",
     "output_type": "error",
     "traceback": [
      "\u001b[1;31m---------------------------------------------------------------------------\u001b[0m",
      "\u001b[1;31mNameError\u001b[0m                                 Traceback (most recent call last)",
      "Cell \u001b[1;32mIn[5], line 1\u001b[0m\n\u001b[1;32m----> 1\u001b[0m \u001b[38;5;28mprint\u001b[39m(\u001b[43mtup\u001b[49m[\u001b[38;5;241m1\u001b[39m:\u001b[38;5;241m4\u001b[39m])\n",
      "\u001b[1;31mNameError\u001b[0m: name 'tup' is not defined"
     ]
    }
   ],
   "source": [
    "print(tup[1:4])"
   ]
  },
  {
   "cell_type": "code",
   "execution_count": 6,
   "id": "8f3ad2fa",
   "metadata": {},
   "outputs": [
    {
     "name": "stdout",
     "output_type": "stream",
     "text": [
      "('Sagar', 45.23, False)\n"
     ]
    }
   ],
   "source": [
    "print(tup1[1:4])"
   ]
  },
  {
   "cell_type": "code",
   "execution_count": 7,
   "id": "6c173653",
   "metadata": {},
   "outputs": [],
   "source": [
    "tupA = ('a', 23, True)\n",
    "tupB = (1, 2, 3)\n",
    "tupC = tupA+tupB"
   ]
  },
  {
   "cell_type": "code",
   "execution_count": 8,
   "id": "54a96fe9",
   "metadata": {},
   "outputs": [
    {
     "name": "stdout",
     "output_type": "stream",
     "text": [
      "('a', 23, True, 1, 2, 3)\n"
     ]
    }
   ],
   "source": [
    "print(tupC)"
   ]
  },
  {
   "cell_type": "code",
   "execution_count": 9,
   "id": "13a0ee62",
   "metadata": {},
   "outputs": [],
   "source": [
    "# Lists in Py"
   ]
  },
  {
   "cell_type": "code",
   "execution_count": 10,
   "id": "65c489cb",
   "metadata": {},
   "outputs": [],
   "source": [
    "list1= [1, 'Sagar', 234.232, True]"
   ]
  },
  {
   "cell_type": "code",
   "execution_count": 11,
   "id": "057a1d8d",
   "metadata": {},
   "outputs": [
    {
     "name": "stdout",
     "output_type": "stream",
     "text": [
      "[1, 'Sagar', 234.232, True]\n"
     ]
    }
   ],
   "source": [
    "print(list1)"
   ]
  },
  {
   "cell_type": "code",
   "execution_count": 12,
   "id": "902bae2d",
   "metadata": {},
   "outputs": [
    {
     "data": {
      "text/plain": [
       "list"
      ]
     },
     "execution_count": 12,
     "metadata": {},
     "output_type": "execute_result"
    }
   ],
   "source": [
    "type(list1)"
   ]
  },
  {
   "cell_type": "code",
   "execution_count": 13,
   "id": "86683fc4",
   "metadata": {},
   "outputs": [],
   "source": [
    "# Dictionaries in Py"
   ]
  },
  {
   "cell_type": "code",
   "execution_count": 14,
   "id": "a738947d",
   "metadata": {},
   "outputs": [],
   "source": [
    "d1 = {\"Name\": \"Sagar Niroula\",\n",
    "      \"Roll\": \"KAN077BCT069\",\n",
    "      \"Age\": 21,\n",
    "     }"
   ]
  },
  {
   "cell_type": "code",
   "execution_count": 15,
   "id": "d9f46fed",
   "metadata": {},
   "outputs": [
    {
     "name": "stdout",
     "output_type": "stream",
     "text": [
      "{'Name': 'Sagar Niroula', 'Roll': 'KAN077BCT069', 'Age': 21}\n"
     ]
    }
   ],
   "source": [
    "print(d1)"
   ]
  },
  {
   "cell_type": "code",
   "execution_count": 16,
   "id": "131252d5",
   "metadata": {},
   "outputs": [
    {
     "data": {
      "text/plain": [
       "dict"
      ]
     },
     "execution_count": 16,
     "metadata": {},
     "output_type": "execute_result"
    }
   ],
   "source": [
    "type(d1)"
   ]
  },
  {
   "cell_type": "code",
   "execution_count": 17,
   "id": "d363318c",
   "metadata": {},
   "outputs": [
    {
     "ename": "KeyError",
     "evalue": "0",
     "output_type": "error",
     "traceback": [
      "\u001b[1;31m---------------------------------------------------------------------------\u001b[0m",
      "\u001b[1;31mKeyError\u001b[0m                                  Traceback (most recent call last)",
      "Cell \u001b[1;32mIn[17], line 1\u001b[0m\n\u001b[1;32m----> 1\u001b[0m \u001b[38;5;28mprint\u001b[39m(\u001b[43md1\u001b[49m\u001b[43m[\u001b[49m\u001b[38;5;241;43m0\u001b[39;49m\u001b[43m]\u001b[49m)\n",
      "\u001b[1;31mKeyError\u001b[0m: 0"
     ]
    }
   ],
   "source": [
    "print(d1[0])"
   ]
  },
  {
   "cell_type": "code",
   "execution_count": 18,
   "id": "4d29ea5f",
   "metadata": {},
   "outputs": [
    {
     "name": "stdout",
     "output_type": "stream",
     "text": [
      "dict_keys(['Name', 'Roll', 'Age'])\n"
     ]
    }
   ],
   "source": [
    "print(d1.keys())"
   ]
  },
  {
   "cell_type": "code",
   "execution_count": 19,
   "id": "d571df8a",
   "metadata": {},
   "outputs": [
    {
     "name": "stdout",
     "output_type": "stream",
     "text": [
      "dict_values(['Sagar Niroula', 'KAN077BCT069', 21])\n"
     ]
    }
   ],
   "source": [
    "print(d1.values())"
   ]
  },
  {
   "cell_type": "code",
   "execution_count": 20,
   "id": "ef66de16",
   "metadata": {},
   "outputs": [],
   "source": [
    "d1[\"Age\"]= 22"
   ]
  },
  {
   "cell_type": "code",
   "execution_count": 21,
   "id": "b6246cc5",
   "metadata": {},
   "outputs": [
    {
     "name": "stdout",
     "output_type": "stream",
     "text": [
      "{'Name': 'Sagar Niroula', 'Roll': 'KAN077BCT069', 'Age': 22}\n"
     ]
    }
   ],
   "source": [
    "print(d1)"
   ]
  },
  {
   "cell_type": "code",
   "execution_count": 22,
   "id": "7460976c",
   "metadata": {},
   "outputs": [],
   "source": [
    "# Set in Py"
   ]
  },
  {
   "cell_type": "code",
   "execution_count": 23,
   "id": "ee339ac4",
   "metadata": {},
   "outputs": [],
   "source": [
    "s1 = {1, 45.23, \"a\", \"Sagar\", False}"
   ]
  },
  {
   "cell_type": "code",
   "execution_count": 24,
   "id": "d448d9c8",
   "metadata": {},
   "outputs": [
    {
     "data": {
      "text/plain": [
       "{1, 45.23, False, 'Sagar', 'a'}"
      ]
     },
     "execution_count": 24,
     "metadata": {},
     "output_type": "execute_result"
    }
   ],
   "source": [
    "s1"
   ]
  },
  {
   "cell_type": "code",
   "execution_count": 25,
   "id": "e6eba714",
   "metadata": {},
   "outputs": [],
   "source": [
    "s1.add(\"Niroula\")"
   ]
  },
  {
   "cell_type": "code",
   "execution_count": 26,
   "id": "37751081",
   "metadata": {},
   "outputs": [
    {
     "data": {
      "text/plain": [
       "{1, 45.23, False, 'Niroula', 'Sagar', 'a'}"
      ]
     },
     "execution_count": 26,
     "metadata": {},
     "output_type": "execute_result"
    }
   ],
   "source": [
    "s1"
   ]
  },
  {
   "cell_type": "code",
   "execution_count": 27,
   "id": "fb3298e6",
   "metadata": {},
   "outputs": [],
   "source": [
    "s1.add(69)"
   ]
  },
  {
   "cell_type": "code",
   "execution_count": 28,
   "id": "bbeed27c",
   "metadata": {},
   "outputs": [
    {
     "data": {
      "text/plain": [
       "{1, 45.23, 69, False, 'Niroula', 'Sagar', 'a'}"
      ]
     },
     "execution_count": 28,
     "metadata": {},
     "output_type": "execute_result"
    }
   ],
   "source": [
    "s1"
   ]
  },
  {
   "cell_type": "code",
   "execution_count": 29,
   "id": "f308a050",
   "metadata": {},
   "outputs": [],
   "source": [
    "s1.add(\"Owl\")"
   ]
  },
  {
   "cell_type": "code",
   "execution_count": 30,
   "id": "c8a8fca1",
   "metadata": {},
   "outputs": [
    {
     "data": {
      "text/plain": [
       "{1, 45.23, 69, False, 'Niroula', 'Owl', 'Sagar', 'a'}"
      ]
     },
     "execution_count": 30,
     "metadata": {},
     "output_type": "execute_result"
    }
   ],
   "source": [
    "s1"
   ]
  },
  {
   "cell_type": "code",
   "execution_count": 31,
   "id": "af425035",
   "metadata": {},
   "outputs": [],
   "source": [
    "s1.remove(False)"
   ]
  },
  {
   "cell_type": "code",
   "execution_count": 32,
   "id": "2f7fb362",
   "metadata": {},
   "outputs": [
    {
     "data": {
      "text/plain": [
       "{1, 45.23, 69, 'Niroula', 'Owl', 'Sagar', 'a'}"
      ]
     },
     "execution_count": 32,
     "metadata": {},
     "output_type": "execute_result"
    }
   ],
   "source": [
    "s1"
   ]
  },
  {
   "cell_type": "code",
   "execution_count": 33,
   "id": "779ed0b6",
   "metadata": {},
   "outputs": [],
   "source": [
    "s1.update([True, \"Hello\", \"Hi\"])"
   ]
  },
  {
   "cell_type": "code",
   "execution_count": 34,
   "id": "9c8def1e",
   "metadata": {},
   "outputs": [
    {
     "data": {
      "text/plain": [
       "{1, 45.23, 69, 'Hello', 'Hi', 'Niroula', 'Owl', 'Sagar', 'a'}"
      ]
     },
     "execution_count": 34,
     "metadata": {},
     "output_type": "execute_result"
    }
   ],
   "source": [
    "s1"
   ]
  },
  {
   "cell_type": "code",
   "execution_count": 35,
   "id": "b72177e7",
   "metadata": {},
   "outputs": [],
   "source": [
    "double = lambda x:x*2"
   ]
  },
  {
   "cell_type": "code",
   "execution_count": 36,
   "id": "6d841196",
   "metadata": {},
   "outputs": [
    {
     "data": {
      "text/plain": [
       "4"
      ]
     },
     "execution_count": 36,
     "metadata": {},
     "output_type": "execute_result"
    }
   ],
   "source": [
    "double(2)"
   ]
  },
  {
   "cell_type": "code",
   "execution_count": 37,
   "id": "6e31bb94",
   "metadata": {},
   "outputs": [],
   "source": [
    "cube = lambda x:x*x*x"
   ]
  },
  {
   "cell_type": "code",
   "execution_count": 38,
   "id": "0ac2ed7d",
   "metadata": {},
   "outputs": [],
   "source": [
    "l = [1,2,4,6]"
   ]
  },
  {
   "cell_type": "code",
   "execution_count": 39,
   "id": "b7eeb02a",
   "metadata": {},
   "outputs": [],
   "source": [
    "newlist=list(map(cube, l))"
   ]
  },
  {
   "cell_type": "code",
   "execution_count": 40,
   "id": "7fd14a78",
   "metadata": {},
   "outputs": [
    {
     "data": {
      "text/plain": [
       "[1, 8, 64, 216]"
      ]
     },
     "execution_count": 40,
     "metadata": {},
     "output_type": "execute_result"
    }
   ],
   "source": [
    "newlist"
   ]
  },
  {
   "cell_type": "code",
   "execution_count": 41,
   "id": "166fb490",
   "metadata": {},
   "outputs": [],
   "source": [
    "filter_func = lambda x:x>3"
   ]
  },
  {
   "cell_type": "code",
   "execution_count": 42,
   "id": "67cfb6ad",
   "metadata": {},
   "outputs": [],
   "source": [
    "newnew  = list(filter(filter_func, l))"
   ]
  },
  {
   "cell_type": "code",
   "execution_count": 43,
   "id": "2b0081d2",
   "metadata": {},
   "outputs": [
    {
     "data": {
      "text/plain": [
       "[4, 6]"
      ]
     },
     "execution_count": 43,
     "metadata": {},
     "output_type": "execute_result"
    }
   ],
   "source": [
    "newnew"
   ]
  },
  {
   "cell_type": "code",
   "execution_count": null,
   "id": "c01a71d1",
   "metadata": {},
   "outputs": [],
   "source": []
  }
 ],
 "metadata": {
  "kernelspec": {
   "display_name": "Python 3 (ipykernel)",
   "language": "python",
   "name": "python3"
  },
  "language_info": {
   "codemirror_mode": {
    "name": "ipython",
    "version": 3
   },
   "file_extension": ".py",
   "mimetype": "text/x-python",
   "name": "python",
   "nbconvert_exporter": "python",
   "pygments_lexer": "ipython3",
   "version": "3.10.9"
  }
 },
 "nbformat": 4,
 "nbformat_minor": 5
}
