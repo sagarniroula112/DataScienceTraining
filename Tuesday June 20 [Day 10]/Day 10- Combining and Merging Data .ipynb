{
 "cells": [
  {
   "cell_type": "markdown",
   "id": "46c26b4e",
   "metadata": {},
   "source": [
    "# Import necesary libraries"
   ]
  },
  {
   "cell_type": "code",
   "execution_count": 1,
   "id": "852a3bce",
   "metadata": {},
   "outputs": [],
   "source": [
    "import pandas as pd\n",
    "import numpy as np"
   ]
  },
  {
   "cell_type": "markdown",
   "id": "41604766",
   "metadata": {},
   "source": [
    "# Creates two DataFrames, d1 and d2, with different sets of data.\n",
    "\n",
    "# In d1, there are two columns: \"key\" and \"num1\". The \"key\" column contains the values \"a\", \"b\", \"c\", \"c\", \"d\", and \"e\", while the \"num1\" column contains the numbers 0 to 5.\n",
    "\n",
    "# In d2, there are two columns: \"key\" and \"num2\". The \"key\" column contains the values \"b\", \"c\", \"e\", and \"f\", while the \"num2\" column contains the numbers 0 to 3."
   ]
  },
  {
   "cell_type": "code",
   "execution_count": 3,
   "id": "fc508d2d",
   "metadata": {},
   "outputs": [
    {
     "name": "stdout",
     "output_type": "stream",
     "text": [
      "  key  num1\n",
      "0   a     0\n",
      "1   b     1\n",
      "2   c     2\n",
      "3   c     3\n",
      "4   d     4\n",
      "5   e     5\n",
      "  key  num2\n",
      "0   b     0\n",
      "1   c     1\n",
      "2   e     2\n",
      "3   f     3\n"
     ]
    }
   ],
   "source": [
    "d1 = pd.DataFrame({\"key\": [\"a\", \"b\", \"c\", \"c\", 'd', 'e'],\n",
    "                 \"num1\" :range(6)})\n",
    "d2=pd.DataFrame(\n",
    " {\"key\":[\"b\",\"c\",\"e\",\"f\"],\n",
    " \"num2\":range(4)})\n",
    "print(d1)\n",
    "print(d2)"
   ]
  },
  {
   "cell_type": "markdown",
   "id": "90b88981",
   "metadata": {},
   "source": [
    "# Perform a merge operation between the DataFrames d1 and d2."
   ]
  },
  {
   "cell_type": "code",
   "execution_count": 4,
   "id": "1c488a63",
   "metadata": {},
   "outputs": [
    {
     "data": {
      "text/html": [
       "<div>\n",
       "<style scoped>\n",
       "    .dataframe tbody tr th:only-of-type {\n",
       "        vertical-align: middle;\n",
       "    }\n",
       "\n",
       "    .dataframe tbody tr th {\n",
       "        vertical-align: top;\n",
       "    }\n",
       "\n",
       "    .dataframe thead th {\n",
       "        text-align: right;\n",
       "    }\n",
       "</style>\n",
       "<table border=\"1\" class=\"dataframe\">\n",
       "  <thead>\n",
       "    <tr style=\"text-align: right;\">\n",
       "      <th></th>\n",
       "      <th>key</th>\n",
       "      <th>num1</th>\n",
       "      <th>num2</th>\n",
       "    </tr>\n",
       "  </thead>\n",
       "  <tbody>\n",
       "    <tr>\n",
       "      <th>0</th>\n",
       "      <td>b</td>\n",
       "      <td>1</td>\n",
       "      <td>0</td>\n",
       "    </tr>\n",
       "    <tr>\n",
       "      <th>1</th>\n",
       "      <td>c</td>\n",
       "      <td>2</td>\n",
       "      <td>1</td>\n",
       "    </tr>\n",
       "    <tr>\n",
       "      <th>2</th>\n",
       "      <td>c</td>\n",
       "      <td>3</td>\n",
       "      <td>1</td>\n",
       "    </tr>\n",
       "    <tr>\n",
       "      <th>3</th>\n",
       "      <td>e</td>\n",
       "      <td>5</td>\n",
       "      <td>2</td>\n",
       "    </tr>\n",
       "  </tbody>\n",
       "</table>\n",
       "</div>"
      ],
      "text/plain": [
       "  key  num1  num2\n",
       "0   b     1     0\n",
       "1   c     2     1\n",
       "2   c     3     1\n",
       "3   e     5     2"
      ]
     },
     "execution_count": 4,
     "metadata": {},
     "output_type": "execute_result"
    }
   ],
   "source": [
    "pd.merge(d1,d2)"
   ]
  },
  {
   "cell_type": "markdown",
   "id": "d30a6638",
   "metadata": {},
   "source": [
    "# Performs a merge operation between the DataFrames d1 and d2, specifically on the column 'key'."
   ]
  },
  {
   "cell_type": "code",
   "execution_count": 5,
   "id": "40093b8b",
   "metadata": {},
   "outputs": [
    {
     "data": {
      "text/html": [
       "<div>\n",
       "<style scoped>\n",
       "    .dataframe tbody tr th:only-of-type {\n",
       "        vertical-align: middle;\n",
       "    }\n",
       "\n",
       "    .dataframe tbody tr th {\n",
       "        vertical-align: top;\n",
       "    }\n",
       "\n",
       "    .dataframe thead th {\n",
       "        text-align: right;\n",
       "    }\n",
       "</style>\n",
       "<table border=\"1\" class=\"dataframe\">\n",
       "  <thead>\n",
       "    <tr style=\"text-align: right;\">\n",
       "      <th></th>\n",
       "      <th>key</th>\n",
       "      <th>num1</th>\n",
       "      <th>num2</th>\n",
       "    </tr>\n",
       "  </thead>\n",
       "  <tbody>\n",
       "    <tr>\n",
       "      <th>0</th>\n",
       "      <td>b</td>\n",
       "      <td>1</td>\n",
       "      <td>0</td>\n",
       "    </tr>\n",
       "    <tr>\n",
       "      <th>1</th>\n",
       "      <td>c</td>\n",
       "      <td>2</td>\n",
       "      <td>1</td>\n",
       "    </tr>\n",
       "    <tr>\n",
       "      <th>2</th>\n",
       "      <td>c</td>\n",
       "      <td>3</td>\n",
       "      <td>1</td>\n",
       "    </tr>\n",
       "    <tr>\n",
       "      <th>3</th>\n",
       "      <td>e</td>\n",
       "      <td>5</td>\n",
       "      <td>2</td>\n",
       "    </tr>\n",
       "  </tbody>\n",
       "</table>\n",
       "</div>"
      ],
      "text/plain": [
       "  key  num1  num2\n",
       "0   b     1     0\n",
       "1   c     2     1\n",
       "2   c     3     1\n",
       "3   e     5     2"
      ]
     },
     "execution_count": 5,
     "metadata": {},
     "output_type": "execute_result"
    }
   ],
   "source": [
    "pd.merge(d1 ,d2, on=\"key\")"
   ]
  },
  {
   "cell_type": "markdown",
   "id": "722cf5f3",
   "metadata": {},
   "source": [
    "# Creates two DataFrames, d3 and d4, with different sets of data.\n",
    "\n",
    "# In d3, there are two columns: \"key1\" and \"num1\". The \"key1\" column contains the values \"a\", \"b\", \"c\", \"c\", \"d\", and \"e\", while the \"num1\" column contains the numbers 0 to 5.\n",
    "\n",
    "# In d4, there are two columns: \"key2\" and \"num2\". The \"key2\" column contains the values \"b\", \"c\", \"e\", and \"f\", while the \"num2\" column contains the numbers 0 to 3."
   ]
  },
  {
   "cell_type": "code",
   "execution_count": 6,
   "id": "87e37296",
   "metadata": {},
   "outputs": [
    {
     "name": "stdout",
     "output_type": "stream",
     "text": [
      "  key1  num1\n",
      "0    a     0\n",
      "1    b     1\n",
      "2    c     2\n",
      "3    c     3\n",
      "4    d     4\n",
      "5    e     5\n",
      "  key2  num2\n",
      "0    b     0\n",
      "1    c     1\n",
      "2    e     2\n",
      "3    f     3\n"
     ]
    }
   ],
   "source": [
    "d3=pd.DataFrame(\n",
    " {\"key1\":[\"a\",\"b\",\"c\",\"c\",\"d\",\"e\"],\n",
    " \"num1\":range(6)})\n",
    "d4=pd.DataFrame(\n",
    " {\"key2\":[\"b\",\"c\",\"e\",\"f\"],\n",
    " \"num2\":range(4)})\n",
    "print(d3)\n",
    "print(d4)"
   ]
  },
  {
   "cell_type": "markdown",
   "id": "1bb8b12b",
   "metadata": {},
   "source": [
    "# Perform a merge operation between the DataFrames d3 and d4 based on different columns. (i.e. the merge operation should matche the values in the \"key1\" column of d3 with the values in the \"key2\" column of d4.)"
   ]
  },
  {
   "cell_type": "code",
   "execution_count": 7,
   "id": "9ef4bff5",
   "metadata": {},
   "outputs": [
    {
     "data": {
      "text/html": [
       "<div>\n",
       "<style scoped>\n",
       "    .dataframe tbody tr th:only-of-type {\n",
       "        vertical-align: middle;\n",
       "    }\n",
       "\n",
       "    .dataframe tbody tr th {\n",
       "        vertical-align: top;\n",
       "    }\n",
       "\n",
       "    .dataframe thead th {\n",
       "        text-align: right;\n",
       "    }\n",
       "</style>\n",
       "<table border=\"1\" class=\"dataframe\">\n",
       "  <thead>\n",
       "    <tr style=\"text-align: right;\">\n",
       "      <th></th>\n",
       "      <th>key1</th>\n",
       "      <th>num1</th>\n",
       "      <th>key2</th>\n",
       "      <th>num2</th>\n",
       "    </tr>\n",
       "  </thead>\n",
       "  <tbody>\n",
       "    <tr>\n",
       "      <th>0</th>\n",
       "      <td>b</td>\n",
       "      <td>1</td>\n",
       "      <td>b</td>\n",
       "      <td>0</td>\n",
       "    </tr>\n",
       "    <tr>\n",
       "      <th>1</th>\n",
       "      <td>c</td>\n",
       "      <td>2</td>\n",
       "      <td>c</td>\n",
       "      <td>1</td>\n",
       "    </tr>\n",
       "    <tr>\n",
       "      <th>2</th>\n",
       "      <td>c</td>\n",
       "      <td>3</td>\n",
       "      <td>c</td>\n",
       "      <td>1</td>\n",
       "    </tr>\n",
       "    <tr>\n",
       "      <th>3</th>\n",
       "      <td>e</td>\n",
       "      <td>5</td>\n",
       "      <td>e</td>\n",
       "      <td>2</td>\n",
       "    </tr>\n",
       "  </tbody>\n",
       "</table>\n",
       "</div>"
      ],
      "text/plain": [
       "  key1  num1 key2  num2\n",
       "0    b     1    b     0\n",
       "1    c     2    c     1\n",
       "2    c     3    c     1\n",
       "3    e     5    e     2"
      ]
     },
     "execution_count": 7,
     "metadata": {},
     "output_type": "execute_result"
    }
   ],
   "source": [
    "pd.merge(d3,d4, left_on= \"key1\", right_on=\"key2\")"
   ]
  },
  {
   "cell_type": "markdown",
   "id": "5d8a4772",
   "metadata": {},
   "source": [
    "# Perform an outer join merge operation between the DataFrames d1 and d2."
   ]
  },
  {
   "cell_type": "code",
   "execution_count": 9,
   "id": "38209263",
   "metadata": {},
   "outputs": [
    {
     "data": {
      "text/html": [
       "<div>\n",
       "<style scoped>\n",
       "    .dataframe tbody tr th:only-of-type {\n",
       "        vertical-align: middle;\n",
       "    }\n",
       "\n",
       "    .dataframe tbody tr th {\n",
       "        vertical-align: top;\n",
       "    }\n",
       "\n",
       "    .dataframe thead th {\n",
       "        text-align: right;\n",
       "    }\n",
       "</style>\n",
       "<table border=\"1\" class=\"dataframe\">\n",
       "  <thead>\n",
       "    <tr style=\"text-align: right;\">\n",
       "      <th></th>\n",
       "      <th>key</th>\n",
       "      <th>num1</th>\n",
       "      <th>num2</th>\n",
       "    </tr>\n",
       "  </thead>\n",
       "  <tbody>\n",
       "    <tr>\n",
       "      <th>0</th>\n",
       "      <td>a</td>\n",
       "      <td>0.0</td>\n",
       "      <td>NaN</td>\n",
       "    </tr>\n",
       "    <tr>\n",
       "      <th>1</th>\n",
       "      <td>b</td>\n",
       "      <td>1.0</td>\n",
       "      <td>0.0</td>\n",
       "    </tr>\n",
       "    <tr>\n",
       "      <th>2</th>\n",
       "      <td>c</td>\n",
       "      <td>2.0</td>\n",
       "      <td>1.0</td>\n",
       "    </tr>\n",
       "    <tr>\n",
       "      <th>3</th>\n",
       "      <td>c</td>\n",
       "      <td>3.0</td>\n",
       "      <td>1.0</td>\n",
       "    </tr>\n",
       "    <tr>\n",
       "      <th>4</th>\n",
       "      <td>d</td>\n",
       "      <td>4.0</td>\n",
       "      <td>NaN</td>\n",
       "    </tr>\n",
       "    <tr>\n",
       "      <th>5</th>\n",
       "      <td>e</td>\n",
       "      <td>5.0</td>\n",
       "      <td>2.0</td>\n",
       "    </tr>\n",
       "    <tr>\n",
       "      <th>6</th>\n",
       "      <td>f</td>\n",
       "      <td>NaN</td>\n",
       "      <td>3.0</td>\n",
       "    </tr>\n",
       "  </tbody>\n",
       "</table>\n",
       "</div>"
      ],
      "text/plain": [
       "  key  num1  num2\n",
       "0   a   0.0   NaN\n",
       "1   b   1.0   0.0\n",
       "2   c   2.0   1.0\n",
       "3   c   3.0   1.0\n",
       "4   d   4.0   NaN\n",
       "5   e   5.0   2.0\n",
       "6   f   NaN   3.0"
      ]
     },
     "execution_count": 9,
     "metadata": {},
     "output_type": "execute_result"
    }
   ],
   "source": [
    "pd.merge(d1, d2, how=\"outer\")"
   ]
  },
  {
   "cell_type": "markdown",
   "id": "5bb09c3b",
   "metadata": {},
   "source": [
    "# Perform an left join merge operation between the DataFrames d1 and d2."
   ]
  },
  {
   "cell_type": "code",
   "execution_count": 10,
   "id": "2cacc400",
   "metadata": {},
   "outputs": [
    {
     "data": {
      "text/html": [
       "<div>\n",
       "<style scoped>\n",
       "    .dataframe tbody tr th:only-of-type {\n",
       "        vertical-align: middle;\n",
       "    }\n",
       "\n",
       "    .dataframe tbody tr th {\n",
       "        vertical-align: top;\n",
       "    }\n",
       "\n",
       "    .dataframe thead th {\n",
       "        text-align: right;\n",
       "    }\n",
       "</style>\n",
       "<table border=\"1\" class=\"dataframe\">\n",
       "  <thead>\n",
       "    <tr style=\"text-align: right;\">\n",
       "      <th></th>\n",
       "      <th>key</th>\n",
       "      <th>num1</th>\n",
       "      <th>num2</th>\n",
       "    </tr>\n",
       "  </thead>\n",
       "  <tbody>\n",
       "    <tr>\n",
       "      <th>0</th>\n",
       "      <td>a</td>\n",
       "      <td>0</td>\n",
       "      <td>NaN</td>\n",
       "    </tr>\n",
       "    <tr>\n",
       "      <th>1</th>\n",
       "      <td>b</td>\n",
       "      <td>1</td>\n",
       "      <td>0.0</td>\n",
       "    </tr>\n",
       "    <tr>\n",
       "      <th>2</th>\n",
       "      <td>c</td>\n",
       "      <td>2</td>\n",
       "      <td>1.0</td>\n",
       "    </tr>\n",
       "    <tr>\n",
       "      <th>3</th>\n",
       "      <td>c</td>\n",
       "      <td>3</td>\n",
       "      <td>1.0</td>\n",
       "    </tr>\n",
       "    <tr>\n",
       "      <th>4</th>\n",
       "      <td>d</td>\n",
       "      <td>4</td>\n",
       "      <td>NaN</td>\n",
       "    </tr>\n",
       "    <tr>\n",
       "      <th>5</th>\n",
       "      <td>e</td>\n",
       "      <td>5</td>\n",
       "      <td>2.0</td>\n",
       "    </tr>\n",
       "  </tbody>\n",
       "</table>\n",
       "</div>"
      ],
      "text/plain": [
       "  key  num1  num2\n",
       "0   a     0   NaN\n",
       "1   b     1   0.0\n",
       "2   c     2   1.0\n",
       "3   c     3   1.0\n",
       "4   d     4   NaN\n",
       "5   e     5   2.0"
      ]
     },
     "execution_count": 10,
     "metadata": {},
     "output_type": "execute_result"
    }
   ],
   "source": [
    "pd.merge(d1,d2, how=\"left\")"
   ]
  },
  {
   "cell_type": "markdown",
   "id": "68d55284",
   "metadata": {},
   "source": [
    "# Perform an right join merge operation between the DataFrames d1 and d2."
   ]
  },
  {
   "cell_type": "code",
   "execution_count": 11,
   "id": "32cd6b7d",
   "metadata": {},
   "outputs": [
    {
     "data": {
      "text/html": [
       "<div>\n",
       "<style scoped>\n",
       "    .dataframe tbody tr th:only-of-type {\n",
       "        vertical-align: middle;\n",
       "    }\n",
       "\n",
       "    .dataframe tbody tr th {\n",
       "        vertical-align: top;\n",
       "    }\n",
       "\n",
       "    .dataframe thead th {\n",
       "        text-align: right;\n",
       "    }\n",
       "</style>\n",
       "<table border=\"1\" class=\"dataframe\">\n",
       "  <thead>\n",
       "    <tr style=\"text-align: right;\">\n",
       "      <th></th>\n",
       "      <th>key</th>\n",
       "      <th>num1</th>\n",
       "      <th>num2</th>\n",
       "    </tr>\n",
       "  </thead>\n",
       "  <tbody>\n",
       "    <tr>\n",
       "      <th>0</th>\n",
       "      <td>b</td>\n",
       "      <td>1.0</td>\n",
       "      <td>0</td>\n",
       "    </tr>\n",
       "    <tr>\n",
       "      <th>1</th>\n",
       "      <td>c</td>\n",
       "      <td>2.0</td>\n",
       "      <td>1</td>\n",
       "    </tr>\n",
       "    <tr>\n",
       "      <th>2</th>\n",
       "      <td>c</td>\n",
       "      <td>3.0</td>\n",
       "      <td>1</td>\n",
       "    </tr>\n",
       "    <tr>\n",
       "      <th>3</th>\n",
       "      <td>e</td>\n",
       "      <td>5.0</td>\n",
       "      <td>2</td>\n",
       "    </tr>\n",
       "    <tr>\n",
       "      <th>4</th>\n",
       "      <td>f</td>\n",
       "      <td>NaN</td>\n",
       "      <td>3</td>\n",
       "    </tr>\n",
       "  </tbody>\n",
       "</table>\n",
       "</div>"
      ],
      "text/plain": [
       "  key  num1  num2\n",
       "0   b   1.0     0\n",
       "1   c   2.0     1\n",
       "2   c   3.0     1\n",
       "3   e   5.0     2\n",
       "4   f   NaN     3"
      ]
     },
     "execution_count": 11,
     "metadata": {},
     "output_type": "execute_result"
    }
   ],
   "source": [
    "pd.merge(d1, d2, how=\"right\")"
   ]
  },
  {
   "cell_type": "markdown",
   "id": "eeb76607",
   "metadata": {},
   "source": [
    "# Perform an inner join merge operation between the DataFrames d1 and d2."
   ]
  },
  {
   "cell_type": "code",
   "execution_count": 13,
   "id": "650ff51b",
   "metadata": {},
   "outputs": [
    {
     "data": {
      "text/html": [
       "<div>\n",
       "<style scoped>\n",
       "    .dataframe tbody tr th:only-of-type {\n",
       "        vertical-align: middle;\n",
       "    }\n",
       "\n",
       "    .dataframe tbody tr th {\n",
       "        vertical-align: top;\n",
       "    }\n",
       "\n",
       "    .dataframe thead th {\n",
       "        text-align: right;\n",
       "    }\n",
       "</style>\n",
       "<table border=\"1\" class=\"dataframe\">\n",
       "  <thead>\n",
       "    <tr style=\"text-align: right;\">\n",
       "      <th></th>\n",
       "      <th>key</th>\n",
       "      <th>num1</th>\n",
       "      <th>num2</th>\n",
       "    </tr>\n",
       "  </thead>\n",
       "  <tbody>\n",
       "    <tr>\n",
       "      <th>0</th>\n",
       "      <td>b</td>\n",
       "      <td>1</td>\n",
       "      <td>0</td>\n",
       "    </tr>\n",
       "    <tr>\n",
       "      <th>1</th>\n",
       "      <td>c</td>\n",
       "      <td>2</td>\n",
       "      <td>1</td>\n",
       "    </tr>\n",
       "    <tr>\n",
       "      <th>2</th>\n",
       "      <td>c</td>\n",
       "      <td>3</td>\n",
       "      <td>1</td>\n",
       "    </tr>\n",
       "    <tr>\n",
       "      <th>3</th>\n",
       "      <td>e</td>\n",
       "      <td>5</td>\n",
       "      <td>2</td>\n",
       "    </tr>\n",
       "  </tbody>\n",
       "</table>\n",
       "</div>"
      ],
      "text/plain": [
       "  key  num1  num2\n",
       "0   b     1     0\n",
       "1   c     2     1\n",
       "2   c     3     1\n",
       "3   e     5     2"
      ]
     },
     "execution_count": 13,
     "metadata": {},
     "output_type": "execute_result"
    }
   ],
   "source": [
    "pd.merge(d1,d2, how=\"inner\")"
   ]
  },
  {
   "cell_type": "markdown",
   "id": "508d6826",
   "metadata": {},
   "source": [
    "# Create two DataFrames, df1 and df2, with different sets of data.\n",
    "\n",
    "# In df1, there are three columns: \"key\", \"num1\", and \"count\". The \"key\" column contains the values \"a\", \"b\", \"c\", \"c\", \"d\", and \"e\". The \"num1\" column contains the numbers 0 to 5, and the \"count\" column contains the values \"one\", \"three\", \"two\", \"one\", \"one\", and \"two\".\n",
    "\n",
    "# In df2, there are three columns: \"key\", \"num2\", and \"count\". The \"key\" column contains the values \"b\", \"c\", \"e\", and \"f\". The \"num2\" column contains the numbers 0 to 3, and the \"count\" column contains the values \"one\", \"two\", \"two\", and \"two\"."
   ]
  },
  {
   "cell_type": "code",
   "execution_count": 15,
   "id": "04130d20",
   "metadata": {},
   "outputs": [
    {
     "name": "stdout",
     "output_type": "stream",
     "text": [
      "   Tom  Tim\n",
      "a    1    2\n",
      "c    3    4\n",
      "d    5    6\n",
      "   Sam  Kim\n",
      "a    7    8\n",
      "b    9   10\n",
      "e   11   12\n",
      "f   13   14\n"
     ]
    }
   ],
   "source": [
    "right=pd.DataFrame(\n",
    " [[1,2],[3,4],[5,6]],\n",
    " index=[\"a\",\"c\",\"d\"],\n",
    " columns=[\"Tom\",\"Tim\"])\n",
    "\n",
    "left=pd.DataFrame(\n",
    " [[7,8],[9,10],[11,12],[13,14]],\n",
    " index=[\"a\",\"b\",\"e\",\"f\"],\n",
    " columns=[\"Sam\",\"Kim\"])\n",
    "\n",
    "print(right)\n",
    "print(left)"
   ]
  },
  {
   "cell_type": "markdown",
   "id": "317c944f",
   "metadata": {},
   "source": [
    "# Perform an outer join merge operation between two DataFrames, right and left, based on their index values."
   ]
  },
  {
   "cell_type": "code",
   "execution_count": 16,
   "id": "cb1789f7",
   "metadata": {},
   "outputs": [
    {
     "data": {
      "text/html": [
       "<div>\n",
       "<style scoped>\n",
       "    .dataframe tbody tr th:only-of-type {\n",
       "        vertical-align: middle;\n",
       "    }\n",
       "\n",
       "    .dataframe tbody tr th {\n",
       "        vertical-align: top;\n",
       "    }\n",
       "\n",
       "    .dataframe thead th {\n",
       "        text-align: right;\n",
       "    }\n",
       "</style>\n",
       "<table border=\"1\" class=\"dataframe\">\n",
       "  <thead>\n",
       "    <tr style=\"text-align: right;\">\n",
       "      <th></th>\n",
       "      <th>Tom</th>\n",
       "      <th>Tim</th>\n",
       "      <th>Sam</th>\n",
       "      <th>Kim</th>\n",
       "    </tr>\n",
       "  </thead>\n",
       "  <tbody>\n",
       "    <tr>\n",
       "      <th>a</th>\n",
       "      <td>1.0</td>\n",
       "      <td>2.0</td>\n",
       "      <td>7.0</td>\n",
       "      <td>8.0</td>\n",
       "    </tr>\n",
       "    <tr>\n",
       "      <th>b</th>\n",
       "      <td>NaN</td>\n",
       "      <td>NaN</td>\n",
       "      <td>9.0</td>\n",
       "      <td>10.0</td>\n",
       "    </tr>\n",
       "    <tr>\n",
       "      <th>c</th>\n",
       "      <td>3.0</td>\n",
       "      <td>4.0</td>\n",
       "      <td>NaN</td>\n",
       "      <td>NaN</td>\n",
       "    </tr>\n",
       "    <tr>\n",
       "      <th>d</th>\n",
       "      <td>5.0</td>\n",
       "      <td>6.0</td>\n",
       "      <td>NaN</td>\n",
       "      <td>NaN</td>\n",
       "    </tr>\n",
       "    <tr>\n",
       "      <th>e</th>\n",
       "      <td>NaN</td>\n",
       "      <td>NaN</td>\n",
       "      <td>11.0</td>\n",
       "      <td>12.0</td>\n",
       "    </tr>\n",
       "    <tr>\n",
       "      <th>f</th>\n",
       "      <td>NaN</td>\n",
       "      <td>NaN</td>\n",
       "      <td>13.0</td>\n",
       "      <td>14.0</td>\n",
       "    </tr>\n",
       "  </tbody>\n",
       "</table>\n",
       "</div>"
      ],
      "text/plain": [
       "   Tom  Tim   Sam   Kim\n",
       "a  1.0  2.0   7.0   8.0\n",
       "b  NaN  NaN   9.0  10.0\n",
       "c  3.0  4.0   NaN   NaN\n",
       "d  5.0  6.0   NaN   NaN\n",
       "e  NaN  NaN  11.0  12.0\n",
       "f  NaN  NaN  13.0  14.0"
      ]
     },
     "execution_count": 16,
     "metadata": {},
     "output_type": "execute_result"
    }
   ],
   "source": [
    "pd.merge(right, left, \n",
    "        right_index = True,\n",
    "        left_index = True,\n",
    "        how=\"outer\")"
   ]
  },
  {
   "cell_type": "markdown",
   "id": "65ff74b1",
   "metadata": {},
   "source": [
    "# Performs a join operation between two DataFrames, left and right, using their index values."
   ]
  },
  {
   "cell_type": "code",
   "execution_count": 18,
   "id": "03e5db21",
   "metadata": {},
   "outputs": [
    {
     "data": {
      "text/html": [
       "<div>\n",
       "<style scoped>\n",
       "    .dataframe tbody tr th:only-of-type {\n",
       "        vertical-align: middle;\n",
       "    }\n",
       "\n",
       "    .dataframe tbody tr th {\n",
       "        vertical-align: top;\n",
       "    }\n",
       "\n",
       "    .dataframe thead th {\n",
       "        text-align: right;\n",
       "    }\n",
       "</style>\n",
       "<table border=\"1\" class=\"dataframe\">\n",
       "  <thead>\n",
       "    <tr style=\"text-align: right;\">\n",
       "      <th></th>\n",
       "      <th>Sam</th>\n",
       "      <th>Kim</th>\n",
       "      <th>Tom</th>\n",
       "      <th>Tim</th>\n",
       "    </tr>\n",
       "  </thead>\n",
       "  <tbody>\n",
       "    <tr>\n",
       "      <th>a</th>\n",
       "      <td>7</td>\n",
       "      <td>8</td>\n",
       "      <td>1.0</td>\n",
       "      <td>2.0</td>\n",
       "    </tr>\n",
       "    <tr>\n",
       "      <th>b</th>\n",
       "      <td>9</td>\n",
       "      <td>10</td>\n",
       "      <td>NaN</td>\n",
       "      <td>NaN</td>\n",
       "    </tr>\n",
       "    <tr>\n",
       "      <th>e</th>\n",
       "      <td>11</td>\n",
       "      <td>12</td>\n",
       "      <td>NaN</td>\n",
       "      <td>NaN</td>\n",
       "    </tr>\n",
       "    <tr>\n",
       "      <th>f</th>\n",
       "      <td>13</td>\n",
       "      <td>14</td>\n",
       "      <td>NaN</td>\n",
       "      <td>NaN</td>\n",
       "    </tr>\n",
       "  </tbody>\n",
       "</table>\n",
       "</div>"
      ],
      "text/plain": [
       "   Sam  Kim  Tom  Tim\n",
       "a    7    8  1.0  2.0\n",
       "b    9   10  NaN  NaN\n",
       "e   11   12  NaN  NaN\n",
       "f   13   14  NaN  NaN"
      ]
     },
     "execution_count": 18,
     "metadata": {},
     "output_type": "execute_result"
    }
   ],
   "source": [
    "left.join(right)"
   ]
  },
  {
   "cell_type": "markdown",
   "id": "4c943346",
   "metadata": {},
   "source": [
    "# Perform an outer join operation between two DataFrames, left and right, using their index values."
   ]
  },
  {
   "cell_type": "code",
   "execution_count": 19,
   "id": "5984f820",
   "metadata": {},
   "outputs": [
    {
     "data": {
      "text/html": [
       "<div>\n",
       "<style scoped>\n",
       "    .dataframe tbody tr th:only-of-type {\n",
       "        vertical-align: middle;\n",
       "    }\n",
       "\n",
       "    .dataframe tbody tr th {\n",
       "        vertical-align: top;\n",
       "    }\n",
       "\n",
       "    .dataframe thead th {\n",
       "        text-align: right;\n",
       "    }\n",
       "</style>\n",
       "<table border=\"1\" class=\"dataframe\">\n",
       "  <thead>\n",
       "    <tr style=\"text-align: right;\">\n",
       "      <th></th>\n",
       "      <th>Sam</th>\n",
       "      <th>Kim</th>\n",
       "      <th>Tom</th>\n",
       "      <th>Tim</th>\n",
       "    </tr>\n",
       "  </thead>\n",
       "  <tbody>\n",
       "    <tr>\n",
       "      <th>a</th>\n",
       "      <td>7.0</td>\n",
       "      <td>8.0</td>\n",
       "      <td>1.0</td>\n",
       "      <td>2.0</td>\n",
       "    </tr>\n",
       "    <tr>\n",
       "      <th>b</th>\n",
       "      <td>9.0</td>\n",
       "      <td>10.0</td>\n",
       "      <td>NaN</td>\n",
       "      <td>NaN</td>\n",
       "    </tr>\n",
       "    <tr>\n",
       "      <th>c</th>\n",
       "      <td>NaN</td>\n",
       "      <td>NaN</td>\n",
       "      <td>3.0</td>\n",
       "      <td>4.0</td>\n",
       "    </tr>\n",
       "    <tr>\n",
       "      <th>d</th>\n",
       "      <td>NaN</td>\n",
       "      <td>NaN</td>\n",
       "      <td>5.0</td>\n",
       "      <td>6.0</td>\n",
       "    </tr>\n",
       "    <tr>\n",
       "      <th>e</th>\n",
       "      <td>11.0</td>\n",
       "      <td>12.0</td>\n",
       "      <td>NaN</td>\n",
       "      <td>NaN</td>\n",
       "    </tr>\n",
       "    <tr>\n",
       "      <th>f</th>\n",
       "      <td>13.0</td>\n",
       "      <td>14.0</td>\n",
       "      <td>NaN</td>\n",
       "      <td>NaN</td>\n",
       "    </tr>\n",
       "  </tbody>\n",
       "</table>\n",
       "</div>"
      ],
      "text/plain": [
       "    Sam   Kim  Tom  Tim\n",
       "a   7.0   8.0  1.0  2.0\n",
       "b   9.0  10.0  NaN  NaN\n",
       "c   NaN   NaN  3.0  4.0\n",
       "d   NaN   NaN  5.0  6.0\n",
       "e  11.0  12.0  NaN  NaN\n",
       "f  13.0  14.0  NaN  NaN"
      ]
     },
     "execution_count": 19,
     "metadata": {},
     "output_type": "execute_result"
    }
   ],
   "source": [
    "left.join(right , how=\"outer\")"
   ]
  },
  {
   "cell_type": "markdown",
   "id": "588cf7a7",
   "metadata": {},
   "source": [
    "# Task \n",
    "\n",
    "# Create a DataFrame called data \n",
    "# The DataFrame has three rows labeled as \"a\", \"b\", and \"f\", and two columns labeled as \"Alex\" and \"Keta\"."
   ]
  },
  {
   "cell_type": "code",
   "execution_count": 22,
   "id": "950946ce",
   "metadata": {},
   "outputs": [
    {
     "data": {
      "text/html": [
       "<div>\n",
       "<style scoped>\n",
       "    .dataframe tbody tr th:only-of-type {\n",
       "        vertical-align: middle;\n",
       "    }\n",
       "\n",
       "    .dataframe tbody tr th {\n",
       "        vertical-align: top;\n",
       "    }\n",
       "\n",
       "    .dataframe thead th {\n",
       "        text-align: right;\n",
       "    }\n",
       "</style>\n",
       "<table border=\"1\" class=\"dataframe\">\n",
       "  <thead>\n",
       "    <tr style=\"text-align: right;\">\n",
       "      <th></th>\n",
       "      <th>Alex</th>\n",
       "      <th>Keta</th>\n",
       "    </tr>\n",
       "  </thead>\n",
       "  <tbody>\n",
       "    <tr>\n",
       "      <th>a</th>\n",
       "      <td>1</td>\n",
       "      <td>3</td>\n",
       "    </tr>\n",
       "    <tr>\n",
       "      <th>b</th>\n",
       "      <td>5</td>\n",
       "      <td>7</td>\n",
       "    </tr>\n",
       "    <tr>\n",
       "      <th>f</th>\n",
       "      <td>9</td>\n",
       "      <td>11</td>\n",
       "    </tr>\n",
       "  </tbody>\n",
       "</table>\n",
       "</div>"
      ],
      "text/plain": [
       "   Alex  Keta\n",
       "a     1     3\n",
       "b     5     7\n",
       "f     9    11"
      ]
     },
     "execution_count": 22,
     "metadata": {},
     "output_type": "execute_result"
    }
   ],
   "source": [
    "data=pd.DataFrame([[1,3],[5,7],[9,11]],\n",
    " index=[\"a\",\"b\",\"f\"],\n",
    " columns=[\"Alex\",\"Keta\"])\n",
    "data"
   ]
  },
  {
   "cell_type": "markdown",
   "id": "ad7a2261",
   "metadata": {},
   "source": [
    "# Perform a join operation between multiple DataFrames, including left, right, and data."
   ]
  },
  {
   "cell_type": "code",
   "execution_count": 24,
   "id": "b6a65eaa",
   "metadata": {},
   "outputs": [
    {
     "data": {
      "text/html": [
       "<div>\n",
       "<style scoped>\n",
       "    .dataframe tbody tr th:only-of-type {\n",
       "        vertical-align: middle;\n",
       "    }\n",
       "\n",
       "    .dataframe tbody tr th {\n",
       "        vertical-align: top;\n",
       "    }\n",
       "\n",
       "    .dataframe thead th {\n",
       "        text-align: right;\n",
       "    }\n",
       "</style>\n",
       "<table border=\"1\" class=\"dataframe\">\n",
       "  <thead>\n",
       "    <tr style=\"text-align: right;\">\n",
       "      <th></th>\n",
       "      <th>Sam</th>\n",
       "      <th>Kim</th>\n",
       "      <th>Tom</th>\n",
       "      <th>Tim</th>\n",
       "      <th>Alex</th>\n",
       "      <th>Keta</th>\n",
       "    </tr>\n",
       "  </thead>\n",
       "  <tbody>\n",
       "    <tr>\n",
       "      <th>a</th>\n",
       "      <td>7.0</td>\n",
       "      <td>8.0</td>\n",
       "      <td>1.0</td>\n",
       "      <td>2.0</td>\n",
       "      <td>1.0</td>\n",
       "      <td>3.0</td>\n",
       "    </tr>\n",
       "    <tr>\n",
       "      <th>b</th>\n",
       "      <td>9.0</td>\n",
       "      <td>10.0</td>\n",
       "      <td>NaN</td>\n",
       "      <td>NaN</td>\n",
       "      <td>5.0</td>\n",
       "      <td>7.0</td>\n",
       "    </tr>\n",
       "    <tr>\n",
       "      <th>e</th>\n",
       "      <td>11.0</td>\n",
       "      <td>12.0</td>\n",
       "      <td>NaN</td>\n",
       "      <td>NaN</td>\n",
       "      <td>NaN</td>\n",
       "      <td>NaN</td>\n",
       "    </tr>\n",
       "    <tr>\n",
       "      <th>f</th>\n",
       "      <td>13.0</td>\n",
       "      <td>14.0</td>\n",
       "      <td>NaN</td>\n",
       "      <td>NaN</td>\n",
       "      <td>9.0</td>\n",
       "      <td>11.0</td>\n",
       "    </tr>\n",
       "  </tbody>\n",
       "</table>\n",
       "</div>"
      ],
      "text/plain": [
       "    Sam   Kim  Tom  Tim  Alex  Keta\n",
       "a   7.0   8.0  1.0  2.0   1.0   3.0\n",
       "b   9.0  10.0  NaN  NaN   5.0   7.0\n",
       "e  11.0  12.0  NaN  NaN   NaN   NaN\n",
       "f  13.0  14.0  NaN  NaN   9.0  11.0"
      ]
     },
     "execution_count": 24,
     "metadata": {},
     "output_type": "execute_result"
    }
   ],
   "source": [
    "left.join([right,data])"
   ]
  },
  {
   "cell_type": "markdown",
   "id": "0c3ff442",
   "metadata": {},
   "source": [
    "# Concatenating Along an Axis"
   ]
  },
  {
   "cell_type": "markdown",
   "id": "6c78594c",
   "metadata": {},
   "source": [
    "# Ccreate a NumPy array called seq with a shape of (4, 5)."
   ]
  },
  {
   "cell_type": "code",
   "execution_count": 25,
   "id": "8e0709e6",
   "metadata": {},
   "outputs": [
    {
     "data": {
      "text/plain": [
       "array([[ 0,  1,  2,  3,  4],\n",
       "       [ 5,  6,  7,  8,  9],\n",
       "       [10, 11, 12, 13, 14],\n",
       "       [15, 16, 17, 18, 19]])"
      ]
     },
     "execution_count": 25,
     "metadata": {},
     "output_type": "execute_result"
    }
   ],
   "source": [
    "seq= np.arange(20).reshape(4,5)\n",
    "seq"
   ]
  },
  {
   "cell_type": "markdown",
   "id": "aa360514",
   "metadata": {},
   "source": [
    "# Perform a concatenation operation on the NumPy array seq"
   ]
  },
  {
   "cell_type": "code",
   "execution_count": 26,
   "id": "65446572",
   "metadata": {},
   "outputs": [
    {
     "data": {
      "text/plain": [
       "array([[ 0,  1,  2,  3,  4],\n",
       "       [ 5,  6,  7,  8,  9],\n",
       "       [10, 11, 12, 13, 14],\n",
       "       [15, 16, 17, 18, 19],\n",
       "       [ 0,  1,  2,  3,  4],\n",
       "       [ 5,  6,  7,  8,  9],\n",
       "       [10, 11, 12, 13, 14],\n",
       "       [15, 16, 17, 18, 19]])"
      ]
     },
     "execution_count": 26,
     "metadata": {},
     "output_type": "execute_result"
    }
   ],
   "source": [
    "np.concatenate([seq, seq] , axis = 0) "
   ]
  },
  {
   "cell_type": "markdown",
   "id": "a4011d3b",
   "metadata": {},
   "source": [
    "# Perform a concatenation operation on the NumPy array seq"
   ]
  },
  {
   "cell_type": "code",
   "execution_count": 27,
   "id": "c46c034c",
   "metadata": {},
   "outputs": [
    {
     "data": {
      "text/plain": [
       "array([[ 0,  1,  2,  3,  4,  0,  1,  2,  3,  4],\n",
       "       [ 5,  6,  7,  8,  9,  5,  6,  7,  8,  9],\n",
       "       [10, 11, 12, 13, 14, 10, 11, 12, 13, 14],\n",
       "       [15, 16, 17, 18, 19, 15, 16, 17, 18, 19]])"
      ]
     },
     "execution_count": 27,
     "metadata": {},
     "output_type": "execute_result"
    }
   ],
   "source": [
    "np.concatenate([seq, seq] , axis = 1) "
   ]
  },
  {
   "cell_type": "markdown",
   "id": "61204db4",
   "metadata": {},
   "source": [
    "# Create three pandas Series objects named data1, data2, and data3, each with different values and associated index labels.\n",
    "\n",
    "# In data1, the Series contains the values 0 and 1, with index labels 'a' and 'b' respectively.\n",
    "\n",
    "# In data2, the Series contains the values 2, 3, and 4, with index labels 'c', 'd', and 'e' respectively.\n",
    "\n",
    "# In data3, the Series contains the values 5 and 6, with index labels 'f' and 'g' respectively."
   ]
  },
  {
   "cell_type": "code",
   "execution_count": 28,
   "id": "fdcb4c27",
   "metadata": {},
   "outputs": [
    {
     "name": "stdout",
     "output_type": "stream",
     "text": [
      "a    0\n",
      "b    1\n",
      "dtype: int64\n",
      "c    2\n",
      "d    3\n",
      "e    4\n",
      "dtype: int64\n",
      "f    5\n",
      "g    6\n",
      "dtype: int64\n"
     ]
    }
   ],
   "source": [
    "data1 = pd.Series(\n",
    " [0, 1], index=['a', 'b'])\n",
    "data2 = pd.Series(\n",
    " [2,3,4], index=['c','d','e'])\n",
    "data3 = pd.Series(\n",
    " [5, 6], index=['f', 'g'])\n",
    "print(data1)\n",
    "print(data2)\n",
    "print(data3)"
   ]
  },
  {
   "cell_type": "markdown",
   "id": "35468487",
   "metadata": {},
   "source": [
    "# Perform a concatenation operation on the pandas Series objects data1, data2, and data3."
   ]
  },
  {
   "cell_type": "code",
   "execution_count": 29,
   "id": "23e6533d",
   "metadata": {},
   "outputs": [
    {
     "data": {
      "text/plain": [
       "a    0\n",
       "b    1\n",
       "c    2\n",
       "d    3\n",
       "e    4\n",
       "f    5\n",
       "g    6\n",
       "dtype: int64"
      ]
     },
     "execution_count": 29,
     "metadata": {},
     "output_type": "execute_result"
    }
   ],
   "source": [
    "pd.concat([data1,data2,data3])"
   ]
  },
  {
   "cell_type": "markdown",
   "id": "61f0e0a1",
   "metadata": {},
   "source": [
    "# Perform a concatenation operation on the pandas Series objects data1, data2, and data3 along the horizontal axis (axis=1)."
   ]
  },
  {
   "cell_type": "code",
   "execution_count": 30,
   "id": "1178772f",
   "metadata": {},
   "outputs": [
    {
     "data": {
      "text/html": [
       "<div>\n",
       "<style scoped>\n",
       "    .dataframe tbody tr th:only-of-type {\n",
       "        vertical-align: middle;\n",
       "    }\n",
       "\n",
       "    .dataframe tbody tr th {\n",
       "        vertical-align: top;\n",
       "    }\n",
       "\n",
       "    .dataframe thead th {\n",
       "        text-align: right;\n",
       "    }\n",
       "</style>\n",
       "<table border=\"1\" class=\"dataframe\">\n",
       "  <thead>\n",
       "    <tr style=\"text-align: right;\">\n",
       "      <th></th>\n",
       "      <th>0</th>\n",
       "      <th>1</th>\n",
       "      <th>2</th>\n",
       "    </tr>\n",
       "  </thead>\n",
       "  <tbody>\n",
       "    <tr>\n",
       "      <th>a</th>\n",
       "      <td>0.0</td>\n",
       "      <td>NaN</td>\n",
       "      <td>NaN</td>\n",
       "    </tr>\n",
       "    <tr>\n",
       "      <th>b</th>\n",
       "      <td>1.0</td>\n",
       "      <td>NaN</td>\n",
       "      <td>NaN</td>\n",
       "    </tr>\n",
       "    <tr>\n",
       "      <th>c</th>\n",
       "      <td>NaN</td>\n",
       "      <td>2.0</td>\n",
       "      <td>NaN</td>\n",
       "    </tr>\n",
       "    <tr>\n",
       "      <th>d</th>\n",
       "      <td>NaN</td>\n",
       "      <td>3.0</td>\n",
       "      <td>NaN</td>\n",
       "    </tr>\n",
       "    <tr>\n",
       "      <th>e</th>\n",
       "      <td>NaN</td>\n",
       "      <td>4.0</td>\n",
       "      <td>NaN</td>\n",
       "    </tr>\n",
       "    <tr>\n",
       "      <th>f</th>\n",
       "      <td>NaN</td>\n",
       "      <td>NaN</td>\n",
       "      <td>5.0</td>\n",
       "    </tr>\n",
       "    <tr>\n",
       "      <th>g</th>\n",
       "      <td>NaN</td>\n",
       "      <td>NaN</td>\n",
       "      <td>6.0</td>\n",
       "    </tr>\n",
       "  </tbody>\n",
       "</table>\n",
       "</div>"
      ],
      "text/plain": [
       "     0    1    2\n",
       "a  0.0  NaN  NaN\n",
       "b  1.0  NaN  NaN\n",
       "c  NaN  2.0  NaN\n",
       "d  NaN  3.0  NaN\n",
       "e  NaN  4.0  NaN\n",
       "f  NaN  NaN  5.0\n",
       "g  NaN  NaN  6.0"
      ]
     },
     "execution_count": 30,
     "metadata": {},
     "output_type": "execute_result"
    }
   ],
   "source": [
    "pd.concat([data1,data2,data3], axis = 1)"
   ]
  },
  {
   "cell_type": "markdown",
   "id": "f2dd0c63",
   "metadata": {},
   "source": [
    "# Create a pandas Series called data4 with values [10, 11, 12] and index labels ['a', 'b', 'c']. Perform a concatenation operation on the pandas Series objects data1 and data4 along the horizontal axis (axis=1) using the \"inner\" join."
   ]
  },
  {
   "cell_type": "code",
   "execution_count": 32,
   "id": "f9cee7d8",
   "metadata": {},
   "outputs": [
    {
     "data": {
      "text/html": [
       "<div>\n",
       "<style scoped>\n",
       "    .dataframe tbody tr th:only-of-type {\n",
       "        vertical-align: middle;\n",
       "    }\n",
       "\n",
       "    .dataframe tbody tr th {\n",
       "        vertical-align: top;\n",
       "    }\n",
       "\n",
       "    .dataframe thead th {\n",
       "        text-align: right;\n",
       "    }\n",
       "</style>\n",
       "<table border=\"1\" class=\"dataframe\">\n",
       "  <thead>\n",
       "    <tr style=\"text-align: right;\">\n",
       "      <th></th>\n",
       "      <th>0</th>\n",
       "      <th>1</th>\n",
       "    </tr>\n",
       "  </thead>\n",
       "  <tbody>\n",
       "    <tr>\n",
       "      <th>a</th>\n",
       "      <td>0</td>\n",
       "      <td>10</td>\n",
       "    </tr>\n",
       "    <tr>\n",
       "      <th>b</th>\n",
       "      <td>1</td>\n",
       "      <td>11</td>\n",
       "    </tr>\n",
       "  </tbody>\n",
       "</table>\n",
       "</div>"
      ],
      "text/plain": [
       "   0   1\n",
       "a  0  10\n",
       "b  1  11"
      ]
     },
     "execution_count": 32,
     "metadata": {},
     "output_type": "execute_result"
    }
   ],
   "source": [
    "data4= pd.Series([10,11,12],\n",
    " index=['a','b',\"c\"])\n",
    "pd.concat([data1, data4], axis = 1, join=\"inner\")"
   ]
  },
  {
   "cell_type": "markdown",
   "id": "fbb6c7bb",
   "metadata": {},
   "source": [
    "# Perform a concatenation operation on the pandas Series objects data1, data2, and data4 and assign the result to the variable x. Use The keys parameter to assign labels to the concatenated Series."
   ]
  },
  {
   "cell_type": "code",
   "execution_count": 35,
   "id": "4db77de5",
   "metadata": {},
   "outputs": [
    {
     "data": {
      "text/plain": [
       "one    a     0\n",
       "       b     1\n",
       "two    c     2\n",
       "       d     3\n",
       "       e     4\n",
       "three  a    10\n",
       "       b    11\n",
       "       c    12\n",
       "dtype: int64"
      ]
     },
     "execution_count": 35,
     "metadata": {},
     "output_type": "execute_result"
    }
   ],
   "source": [
    "x = pd.concat([data1, data2, data4] , keys = ['one', 'two', 'three'])\n",
    "x"
   ]
  },
  {
   "cell_type": "markdown",
   "id": "297b8e2f",
   "metadata": {},
   "source": [
    "# Task \n",
    "\n",
    "# Create two pandas DataFrames, data1 and data2, with randomly generated data.\n",
    "\n",
    "# The data1 DataFrame is created using the pd.DataFrame() function and a 3x4 NumPy array of random numbers generated by np.random.randn(3, 4). The columns of data1 are labeled as 'a', 'b', 'c', and 'd'.\n",
    "\n",
    "# The data2 DataFrame is created in a similar way, but with a 2x3 NumPy array of random numbers generated by np.random.randn(2, 3). The columns of data2 are labeled as 'b', 'd', and 'a'.\n",
    "\n"
   ]
  },
  {
   "cell_type": "code",
   "execution_count": 36,
   "id": "187cb083",
   "metadata": {},
   "outputs": [
    {
     "name": "stdout",
     "output_type": "stream",
     "text": [
      "          a         b         c         d\n",
      "0 -0.300429  0.765859  0.749039  0.693156\n",
      "1  1.719054 -0.139805 -0.255436  0.249724\n",
      "2  1.788607 -1.196014 -0.219635 -1.403504\n",
      "          b         d         a\n",
      "0  0.689129  0.502160  0.955935\n",
      "1  0.310184 -1.716892 -0.098959\n"
     ]
    }
   ],
   "source": [
    "data1 = pd.DataFrame(\n",
    " np.random.randn(3, 4),\n",
    " columns=['a','b','c','d'])\n",
    "data2 = pd.DataFrame(\n",
    " np.random.randn(2, 3),\n",
    " columns=['b','d','a'])\n",
    "print(data1)\n",
    "print(data2)"
   ]
  },
  {
   "cell_type": "markdown",
   "id": "5b64e273",
   "metadata": {},
   "source": [
    "# Perform a concatenation operation on the pandas DataFrames data1 and data2 and combine them into a single DataFrame. "
   ]
  },
  {
   "cell_type": "code",
   "execution_count": 37,
   "id": "4da97d04",
   "metadata": {},
   "outputs": [
    {
     "data": {
      "text/html": [
       "<div>\n",
       "<style scoped>\n",
       "    .dataframe tbody tr th:only-of-type {\n",
       "        vertical-align: middle;\n",
       "    }\n",
       "\n",
       "    .dataframe tbody tr th {\n",
       "        vertical-align: top;\n",
       "    }\n",
       "\n",
       "    .dataframe thead th {\n",
       "        text-align: right;\n",
       "    }\n",
       "</style>\n",
       "<table border=\"1\" class=\"dataframe\">\n",
       "  <thead>\n",
       "    <tr style=\"text-align: right;\">\n",
       "      <th></th>\n",
       "      <th>a</th>\n",
       "      <th>b</th>\n",
       "      <th>c</th>\n",
       "      <th>d</th>\n",
       "    </tr>\n",
       "  </thead>\n",
       "  <tbody>\n",
       "    <tr>\n",
       "      <th>0</th>\n",
       "      <td>-0.300429</td>\n",
       "      <td>0.765859</td>\n",
       "      <td>0.749039</td>\n",
       "      <td>0.693156</td>\n",
       "    </tr>\n",
       "    <tr>\n",
       "      <th>1</th>\n",
       "      <td>1.719054</td>\n",
       "      <td>-0.139805</td>\n",
       "      <td>-0.255436</td>\n",
       "      <td>0.249724</td>\n",
       "    </tr>\n",
       "    <tr>\n",
       "      <th>2</th>\n",
       "      <td>1.788607</td>\n",
       "      <td>-1.196014</td>\n",
       "      <td>-0.219635</td>\n",
       "      <td>-1.403504</td>\n",
       "    </tr>\n",
       "    <tr>\n",
       "      <th>0</th>\n",
       "      <td>0.955935</td>\n",
       "      <td>0.689129</td>\n",
       "      <td>NaN</td>\n",
       "      <td>0.502160</td>\n",
       "    </tr>\n",
       "    <tr>\n",
       "      <th>1</th>\n",
       "      <td>-0.098959</td>\n",
       "      <td>0.310184</td>\n",
       "      <td>NaN</td>\n",
       "      <td>-1.716892</td>\n",
       "    </tr>\n",
       "  </tbody>\n",
       "</table>\n",
       "</div>"
      ],
      "text/plain": [
       "          a         b         c         d\n",
       "0 -0.300429  0.765859  0.749039  0.693156\n",
       "1  1.719054 -0.139805 -0.255436  0.249724\n",
       "2  1.788607 -1.196014 -0.219635 -1.403504\n",
       "0  0.955935  0.689129       NaN  0.502160\n",
       "1 -0.098959  0.310184       NaN -1.716892"
      ]
     },
     "execution_count": 37,
     "metadata": {},
     "output_type": "execute_result"
    }
   ],
   "source": [
    "pd.concat([data1, data2])"
   ]
  },
  {
   "cell_type": "code",
   "execution_count": null,
   "id": "42cb05e9",
   "metadata": {},
   "outputs": [],
   "source": []
  },
  {
   "cell_type": "code",
   "execution_count": null,
   "id": "6b9d718e",
   "metadata": {},
   "outputs": [],
   "source": []
  }
 ],
 "metadata": {
  "kernelspec": {
   "display_name": "Python 3 (ipykernel)",
   "language": "python",
   "name": "python3"
  },
  "language_info": {
   "codemirror_mode": {
    "name": "ipython",
    "version": 3
   },
   "file_extension": ".py",
   "mimetype": "text/x-python",
   "name": "python",
   "nbconvert_exporter": "python",
   "pygments_lexer": "ipython3",
   "version": "3.10.9"
  }
 },
 "nbformat": 4,
 "nbformat_minor": 5
}
