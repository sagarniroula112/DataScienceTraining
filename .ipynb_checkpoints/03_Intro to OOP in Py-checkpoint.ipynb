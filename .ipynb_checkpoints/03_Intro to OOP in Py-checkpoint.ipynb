{
 "cells": [
  {
   "cell_type": "code",
   "execution_count": 8,
   "id": "e87c5015",
   "metadata": {},
   "outputs": [],
   "source": [
    "class Phone:\n",
    "    \n",
    "    def makeCall(self):\n",
    "        print(\"Making phone call.\")\n",
    "        \n",
    "    def sendSms(self):\n",
    "        print(\"Sending sms.\")"
   ]
  },
  {
   "cell_type": "code",
   "execution_count": 9,
   "id": "fe36d8eb",
   "metadata": {},
   "outputs": [],
   "source": [
    "p1 = Phone()"
   ]
  },
  {
   "cell_type": "code",
   "execution_count": 10,
   "id": "34538afc",
   "metadata": {},
   "outputs": [
    {
     "name": "stdout",
     "output_type": "stream",
     "text": [
      "Making phone call.\n"
     ]
    }
   ],
   "source": [
    "p1.makeCall()"
   ]
  },
  {
   "cell_type": "code",
   "execution_count": 11,
   "id": "1d6d5da2",
   "metadata": {},
   "outputs": [
    {
     "name": "stdout",
     "output_type": "stream",
     "text": [
      "Sending sms.\n"
     ]
    }
   ],
   "source": [
    "p1.sendSms()"
   ]
  },
  {
   "cell_type": "code",
   "execution_count": 13,
   "id": "ff4bc025",
   "metadata": {},
   "outputs": [],
   "source": [
    "class Phone:\n",
    "    def set_color(self, color):\n",
    "        self.color = color\n",
    "        \n",
    "    def set_cost(self, cost):\n",
    "        self.cost = cost\n",
    "        \n",
    "    def show_color(self):\n",
    "        return self.color\n",
    "    \n",
    "    def show_cost(self):\n",
    "        return self.cost\n",
    "    \n",
    "    def makeCall(self):\n",
    "        print(\"Making phone call.\")\n",
    "        \n",
    "    def sendSms(self):\n",
    "        print(\"Sending sms.\")\n",
    "    "
   ]
  },
  {
   "cell_type": "code",
   "execution_count": 14,
   "id": "7875a482",
   "metadata": {},
   "outputs": [],
   "source": [
    "p1 = Phone()"
   ]
  },
  {
   "cell_type": "code",
   "execution_count": 15,
   "id": "249ce22f",
   "metadata": {},
   "outputs": [],
   "source": [
    "p1.set_color(\"red\")"
   ]
  },
  {
   "cell_type": "code",
   "execution_count": 16,
   "id": "b6af81ca",
   "metadata": {},
   "outputs": [
    {
     "data": {
      "text/plain": [
       "'red'"
      ]
     },
     "execution_count": 16,
     "metadata": {},
     "output_type": "execute_result"
    }
   ],
   "source": [
    "p1.show_color()"
   ]
  },
  {
   "cell_type": "code",
   "execution_count": 17,
   "id": "5cbce9b2",
   "metadata": {},
   "outputs": [],
   "source": [
    "p1.set_cost(8700)"
   ]
  },
  {
   "cell_type": "code",
   "execution_count": 18,
   "id": "4a7c7001",
   "metadata": {},
   "outputs": [
    {
     "data": {
      "text/plain": [
       "8700"
      ]
     },
     "execution_count": 18,
     "metadata": {},
     "output_type": "execute_result"
    }
   ],
   "source": [
    "p1.show_cost()"
   ]
  },
  {
   "cell_type": "code",
   "execution_count": 19,
   "id": "19c1bcb9",
   "metadata": {},
   "outputs": [
    {
     "name": "stdout",
     "output_type": "stream",
     "text": [
      "Making phone call.\n"
     ]
    }
   ],
   "source": [
    "p1.makeCall()"
   ]
  },
  {
   "cell_type": "code",
   "execution_count": null,
   "id": "e1924b53",
   "metadata": {},
   "outputs": [],
   "source": [
    "class Employee:\n",
    "    \n",
    "    def __init__(self, name, age, salary, gender):\n",
    "        self.name = name\n",
    "        self.age = age\n",
    "        self.salary = salary\n",
    "        self.gender = gender\n",
    "        \n",
    "    def emp_details(self):\n",
    "        print(\"Name: \", self.name)\n",
    "        print(\"Age: \", self.name)"
   ]
  }
 ],
 "metadata": {
  "kernelspec": {
   "display_name": "Python 3 (ipykernel)",
   "language": "python",
   "name": "python3"
  },
  "language_info": {
   "codemirror_mode": {
    "name": "ipython",
    "version": 3
   },
   "file_extension": ".py",
   "mimetype": "text/x-python",
   "name": "python",
   "nbconvert_exporter": "python",
   "pygments_lexer": "ipython3",
   "version": "3.10.9"
  }
 },
 "nbformat": 4,
 "nbformat_minor": 5
}
