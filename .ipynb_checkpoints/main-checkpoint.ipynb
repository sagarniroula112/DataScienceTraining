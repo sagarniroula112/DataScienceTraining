{
 "cells": [
  {
   "cell_type": "code",
   "execution_count": null,
   "metadata": {},
   "outputs": [],
   "source": []
  },
  {
   "cell_type": "code",
   "execution_count": 1,
   "metadata": {},
   "outputs": [
    {
     "name": "stdout",
     "output_type": "stream",
     "text": [
      "hello world, now you are a python programmer\n"
     ]
    }
   ],
   "source": [
    "print(\"hello world, now you are a python programmer\")"
   ]
  },
  {
   "cell_type": "code",
   "execution_count": 2,
   "metadata": {},
   "outputs": [
    {
     "name": "stdout",
     "output_type": "stream",
     "text": [
      "#this is a comment\n"
     ]
    }
   ],
   "source": [
    "print(\"#this is a comment\")"
   ]
  },
  {
   "cell_type": "code",
   "execution_count": 4,
   "metadata": {},
   "outputs": [
    {
     "name": "stdout",
     "output_type": "stream",
     "text": [
      "<class 'int'>\n",
      "<class 'float'>\n"
     ]
    }
   ],
   "source": [
    "x=7\n",
    "y=4.5\n",
    "print(type(x))\n",
    "print(type(y))"
   ]
  },
  {
   "cell_type": "code",
   "execution_count": 5,
   "metadata": {},
   "outputs": [
    {
     "name": "stdout",
     "output_type": "stream",
     "text": [
      "<class 'str'>\n"
     ]
    }
   ],
   "source": [
    "name=\"student\"\n",
    "print(type(name))"
   ]
  },
  {
   "cell_type": "code",
   "execution_count": 6,
   "metadata": {},
   "outputs": [
    {
     "name": "stdout",
     "output_type": "stream",
     "text": [
      "<class 'complex'>\n"
     ]
    }
   ],
   "source": [
    "a=1j\n",
    "print(type(a))"
   ]
  },
  {
   "cell_type": "code",
   "execution_count": 11,
   "metadata": {},
   "outputs": [
    {
     "name": "stdout",
     "output_type": "stream",
     "text": [
      "<class 'range'>\n",
      "range(0, 6)\n"
     ]
    }
   ],
   "source": [
    "a=range(6)\n",
    "print(type(a))\n",
    "print(a)"
   ]
  },
  {
   "cell_type": "code",
   "execution_count": 12,
   "metadata": {},
   "outputs": [
    {
     "name": "stdout",
     "output_type": "stream",
     "text": [
      "#list/you can keep duplicate value/big bracket\n",
      "['apple', 'ball', 'shippe']\n"
     ]
    }
   ],
   "source": [
    "print(\"#list/you can keep duplicate value/big bracket\")\n",
    "b=[\"apple\",\"ball\",\"shippe\"]\n",
    "print(b)"
   ]
  },
  {
   "cell_type": "code",
   "execution_count": 16,
   "metadata": {},
   "outputs": [
    {
     "name": "stdout",
     "output_type": "stream",
     "text": [
      "#parenthesis$$ Tupples\n",
      "('hey', 'hi', 'hellow')\n",
      "<class 'tuple'>\n"
     ]
    }
   ],
   "source": [
    "print(\"#parenthesis$$ Tupples\")\n",
    "a=( \"hey\", \"hi\",\"hellow\")\n",
    "print(a)\n",
    "print(type(a))"
   ]
  },
  {
   "cell_type": "code",
   "execution_count": 17,
   "metadata": {},
   "outputs": [
    {
     "name": "stdout",
     "output_type": "stream",
     "text": [
      "#parenthesis$$ Tupples\n",
      "{'hi', 'hey', 'hellow'}\n",
      "<class 'set'>\n"
     ]
    }
   ],
   "source": [
    "print(\"#parenthesis$$ Tupples\")\n",
    "a={\"hey\", \"hi\",\"hellow\"}\n",
    "print(a)\n",
    "print(type(a))"
   ]
  },
  {
   "cell_type": "code",
   "execution_count": 18,
   "metadata": {},
   "outputs": [
    {
     "name": "stdout",
     "output_type": "stream",
     "text": [
      "#dictioinaries// need to assign key and values\n",
      "{'apple': 1, 'ball': 2}\n"
     ]
    }
   ],
   "source": [
    "print(\"#dictioinaries// need to assign key and values\")\n",
    "dict={'apple':1,'ball':2}\n",
    "print(dict)\n"
   ]
  },
  {
   "cell_type": "code",
   "execution_count": 22,
   "metadata": {},
   "outputs": [
    {
     "name": "stdout",
     "output_type": "stream",
     "text": [
      "30\n"
     ]
    },
    {
     "data": {
      "text/plain": [
       "11"
      ]
     },
     "execution_count": 22,
     "metadata": {},
     "output_type": "execute_result"
    }
   ],
   "source": [
    "# operator examples\n",
    "x=5\n",
    "y=6\n",
    "print(x*y)\n",
    "x+y #no need to write print in ipynb file \n",
    "y**x #exponential\n"
   ]
  },
  {
   "cell_type": "code",
   "execution_count": 23,
   "metadata": {},
   "outputs": [
    {
     "name": "stdout",
     "output_type": "stream",
     "text": [
      "True\n",
      "False\n",
      "True\n",
      "False\n"
     ]
    }
   ],
   "source": [
    "# logical operation\n",
    "x=5\n",
    "y=16\n",
    "print(x<y)\n",
    "print(x>y)\n",
    "print(x<=5)\n",
    "print(x>=20)"
   ]
  },
  {
   "cell_type": "code",
   "execution_count": 24,
   "metadata": {},
   "outputs": [
    {
     "name": "stdout",
     "output_type": "stream",
     "text": [
      "1 2 fizz4 buzzfizz7 8 fizzbuzz11 fizz13 14 FIZZBUZZ16 17 fizz19 buzz"
     ]
    }
   ],
   "source": [
    "#For loop example \n",
    "for i in range(1,21):\n",
    "    if i%15==0:\n",
    "        print(\"FIZZBUZZ\",end=\"\")\n",
    "    elif i%3==0:\n",
    "        print (\"fizz\",end=\"\")\n",
    "    elif i%5==0:\n",
    "        print(\"buzz\",end=\"\")\n",
    "    else:\n",
    "        print(i,end=\" \")"
   ]
  },
  {
   "cell_type": "code",
   "execution_count": 26,
   "metadata": {},
   "outputs": [
    {
     "name": "stdout",
     "output_type": "stream",
     "text": [
      "The sum of integers from 1 to 10 is 55\n"
     ]
    }
   ],
   "source": [
    "def calculate_sum(n):\n",
    "    sum=0\n",
    "    for i in range(1,n+1):\n",
    "        sum+=i \n",
    "    return sum\n",
    "\n",
    "n=10\n",
    "result=calculate_sum(n)\n",
    "print(\"The sum of integers from 1 to\",n,\"is\", result)\n"
   ]
  },
  {
   "cell_type": "code",
   "execution_count": 27,
   "metadata": {},
   "outputs": [],
   "source": [
    "def calculate_sum(n):\n",
    "    sum=0\n",
    "    for i in range(1,n+1):\n",
    "        sum+=i \n",
    "    return sum\n",
    "\n",
    "n=input(\"Enter your number: \")\n",
    "result=calculate_sum(n)\n",
    "print(\"The sum of integers from 1 to\",n,\"is\", result)"
   ]
  },
  {
   "cell_type": "code",
   "execution_count": null,
   "metadata": {},
   "outputs": [],
   "source": [
    "import numpy as np  #array make \n",
    "arr=np.arange(10)\n",
    "print(arr)"
   ]
  }
 ],
 "metadata": {
  "kernelspec": {
   "display_name": "Python 3",
   "language": "python",
   "name": "python3"
  },
  "language_info": {
   "codemirror_mode": {
    "name": "ipython",
    "version": 3
   },
   "file_extension": ".py",
   "mimetype": "text/x-python",
   "name": "python",
   "nbconvert_exporter": "python",
   "pygments_lexer": "ipython3",
   "version": "3.11.1"
  }
 },
 "nbformat": 4,
 "nbformat_minor": 2
}
