{
 "cells": [
  {
   "cell_type": "code",
   "execution_count": 12,
   "id": "83ecd0a7",
   "metadata": {
    "scrolled": false
   },
   "outputs": [],
   "source": [
    "student = \"Sagar\""
   ]
  },
  {
   "cell_type": "code",
   "execution_count": 13,
   "id": "c44e646e",
   "metadata": {},
   "outputs": [
    {
     "data": {
      "text/plain": [
       "'Sagar'"
      ]
     },
     "execution_count": 13,
     "metadata": {},
     "output_type": "execute_result"
    }
   ],
   "source": [
    "student"
   ]
  },
  {
   "cell_type": "code",
   "execution_count": 14,
   "id": "1c969df2",
   "metadata": {},
   "outputs": [],
   "source": [
    "student = \"MAtt\""
   ]
  },
  {
   "cell_type": "code",
   "execution_count": 17,
   "id": "291dc36c",
   "metadata": {},
   "outputs": [
    {
     "data": {
      "text/plain": [
       "'MAtt'"
      ]
     },
     "execution_count": 17,
     "metadata": {},
     "output_type": "execute_result"
    }
   ],
   "source": [
    "student"
   ]
  },
  {
   "cell_type": "code",
   "execution_count": null,
   "id": "fe60238a",
   "metadata": {},
   "outputs": [],
   "source": []
  },
  {
   "cell_type": "code",
   "execution_count": null,
   "id": "b66138b8",
   "metadata": {},
   "outputs": [],
   "source": []
  },
  {
   "cell_type": "code",
   "execution_count": null,
   "id": "90aa9c24",
   "metadata": {},
   "outputs": [],
   "source": []
  }
 ],
 "metadata": {
  "kernelspec": {
   "display_name": "Python 3 (ipykernel)",
   "language": "python",
   "name": "python3"
  },
  "language_info": {
   "codemirror_mode": {
    "name": "ipython",
    "version": 3
   },
   "file_extension": ".py",
   "mimetype": "text/x-python",
   "name": "python",
   "nbconvert_exporter": "python",
   "pygments_lexer": "ipython3",
   "version": "3.10.9"
  }
 },
 "nbformat": 4,
 "nbformat_minor": 5
}
