{
 "cells": [
  {
   "cell_type": "code",
   "execution_count": 1,
   "id": "84428299",
   "metadata": {},
   "outputs": [],
   "source": [
    "import pandas as pd"
   ]
  },
  {
   "cell_type": "code",
   "execution_count": 2,
   "id": "935e7aa7",
   "metadata": {},
   "outputs": [
    {
     "name": "stdout",
     "output_type": "stream",
     "text": [
      "1.5.3\n"
     ]
    }
   ],
   "source": [
    "print(pd.__version__)"
   ]
  },
  {
   "cell_type": "code",
   "execution_count": 5,
   "id": "7d2d9e26",
   "metadata": {},
   "outputs": [],
   "source": [
    "obj =  pd.Series([1, \"Keshav\", 1.69, False])    # object as list"
   ]
  },
  {
   "cell_type": "code",
   "execution_count": 6,
   "id": "0e9215d7",
   "metadata": {},
   "outputs": [
    {
     "name": "stdout",
     "output_type": "stream",
     "text": [
      "0         1\n",
      "1    Keshav\n",
      "2      1.69\n",
      "3     False\n",
      "dtype: object\n"
     ]
    }
   ],
   "source": [
    "print(obj)"
   ]
  },
  {
   "cell_type": "code",
   "execution_count": 7,
   "id": "18cb77fe",
   "metadata": {},
   "outputs": [],
   "source": [
    " # dtype = data type"
   ]
  },
  {
   "cell_type": "code",
   "execution_count": 8,
   "id": "339dca05",
   "metadata": {},
   "outputs": [
    {
     "name": "stdout",
     "output_type": "stream",
     "text": [
      "1\n"
     ]
    }
   ],
   "source": [
    "print(obj[0])"
   ]
  },
  {
   "cell_type": "code",
   "execution_count": 9,
   "id": "e4c92888",
   "metadata": {},
   "outputs": [
    {
     "name": "stdout",
     "output_type": "stream",
     "text": [
      "1.69\n"
     ]
    }
   ],
   "source": [
    "print(obj[2])"
   ]
  },
  {
   "cell_type": "code",
   "execution_count": 10,
   "id": "ac43a04f",
   "metadata": {},
   "outputs": [
    {
     "data": {
      "text/plain": [
       "array([1, 'Keshav', 1.69, False], dtype=object)"
      ]
     },
     "execution_count": 10,
     "metadata": {},
     "output_type": "execute_result"
    }
   ],
   "source": [
    "obj.values   # reteive the underlying array of values from the 'obj' series object."
   ]
  },
  {
   "cell_type": "code",
   "execution_count": 19,
   "id": "22ce4d5e",
   "metadata": {},
   "outputs": [],
   "source": [
    "obj1 = pd.Series([4, 'Saugat', True, 23.422], index = ['s', 'a', 'u', 'g']) # in list indexing is fixed not greater/lesser than what is expected"
   ]
  },
  {
   "cell_type": "code",
   "execution_count": 17,
   "id": "130190c5",
   "metadata": {},
   "outputs": [
    {
     "name": "stdout",
     "output_type": "stream",
     "text": [
      "s         4\n",
      "a    Saugat\n",
      "u      True\n",
      "g    23.422\n",
      "dtype: object\n"
     ]
    }
   ],
   "source": [
    "print(obj1)"
   ]
  },
  {
   "cell_type": "code",
   "execution_count": 20,
   "id": "87e80ae3",
   "metadata": {},
   "outputs": [
    {
     "name": "stdout",
     "output_type": "stream",
     "text": [
      "Saugat\n"
     ]
    }
   ],
   "source": [
    "print(obj1['a'])"
   ]
  },
  {
   "cell_type": "code",
   "execution_count": 21,
   "id": "8244000d",
   "metadata": {},
   "outputs": [
    {
     "data": {
      "text/plain": [
       "Index(['s', 'a', 'u', 'g'], dtype='object')"
      ]
     },
     "execution_count": 21,
     "metadata": {},
     "output_type": "execute_result"
    }
   ],
   "source": [
    "obj1.index\n"
   ]
  },
  {
   "cell_type": "code",
   "execution_count": 73,
   "id": "fa8854e3",
   "metadata": {},
   "outputs": [],
   "source": [
    "dict1 = {'Name': 122,\n",
    "         'Age': 69,\n",
    "         'Salary': 10,\n",
    "        }"
   ]
  },
  {
   "cell_type": "code",
   "execution_count": 74,
   "id": "792acdbc",
   "metadata": {},
   "outputs": [
    {
     "data": {
      "text/plain": [
       "{'Name': 122, 'Age': 69, 'Salary': 10}"
      ]
     },
     "execution_count": 74,
     "metadata": {},
     "output_type": "execute_result"
    }
   ],
   "source": [
    "dict1"
   ]
  },
  {
   "cell_type": "code",
   "execution_count": 75,
   "id": "a74e9d3e",
   "metadata": {},
   "outputs": [],
   "source": [
    "a = pd.Series(dict1)"
   ]
  },
  {
   "cell_type": "code",
   "execution_count": 76,
   "id": "aba401a0",
   "metadata": {},
   "outputs": [
    {
     "name": "stdout",
     "output_type": "stream",
     "text": [
      "Name      122\n",
      "Age        69\n",
      "Salary     10\n",
      "dtype: int64\n"
     ]
    }
   ],
   "source": [
    "print(a)"
   ]
  },
  {
   "cell_type": "code",
   "execution_count": 77,
   "id": "cfa89416",
   "metadata": {},
   "outputs": [
    {
     "data": {
      "text/plain": [
       "122"
      ]
     },
     "execution_count": 77,
     "metadata": {},
     "output_type": "execute_result"
    }
   ],
   "source": [
    "dict1[\"Name\"]"
   ]
  },
  {
   "cell_type": "code",
   "execution_count": 78,
   "id": "286422a6",
   "metadata": {},
   "outputs": [
    {
     "data": {
      "text/plain": [
       "Name    122\n",
       "Age      69\n",
       "dtype: int64"
      ]
     },
     "execution_count": 78,
     "metadata": {},
     "output_type": "execute_result"
    }
   ],
   "source": [
    "a[a>=69]    # make a series first for this"
   ]
  },
  {
   "cell_type": "code",
   "execution_count": 79,
   "id": "01502761",
   "metadata": {},
   "outputs": [],
   "source": [
    "# a[a>=69] = 100   # changing multiple values at once"
   ]
  },
  {
   "cell_type": "code",
   "execution_count": 80,
   "id": "998517e0",
   "metadata": {},
   "outputs": [
    {
     "data": {
      "text/plain": [
       "Name      122\n",
       "Age        69\n",
       "Salary     10\n",
       "dtype: int64"
      ]
     },
     "execution_count": 80,
     "metadata": {},
     "output_type": "execute_result"
    }
   ],
   "source": [
    "a"
   ]
  },
  {
   "cell_type": "code",
   "execution_count": 81,
   "id": "232ab812",
   "metadata": {},
   "outputs": [
    {
     "data": {
      "text/plain": [
       "False"
      ]
     },
     "execution_count": 81,
     "metadata": {},
     "output_type": "execute_result"
    }
   ],
   "source": [
    "'Tom' in a"
   ]
  },
  {
   "cell_type": "code",
   "execution_count": 82,
   "id": "d50cc3e9",
   "metadata": {},
   "outputs": [
    {
     "data": {
      "text/plain": [
       "True"
      ]
     },
     "execution_count": 82,
     "metadata": {},
     "output_type": "execute_result"
    }
   ],
   "source": [
    "'Age' in a"
   ]
  },
  {
   "cell_type": "code",
   "execution_count": 83,
   "id": "d3b3a320",
   "metadata": {},
   "outputs": [
    {
     "data": {
      "text/plain": [
       "True"
      ]
     },
     "execution_count": 83,
     "metadata": {},
     "output_type": "execute_result"
    }
   ],
   "source": [
    "'Age' in dict1"
   ]
  },
  {
   "cell_type": "code",
   "execution_count": 84,
   "id": "6dd93cba",
   "metadata": {},
   "outputs": [],
   "source": [
    "# Performing element wise division"
   ]
  },
  {
   "cell_type": "code",
   "execution_count": 85,
   "id": "3cd7f86c",
   "metadata": {},
   "outputs": [
    {
     "data": {
      "text/plain": [
       "Name      122\n",
       "Age        69\n",
       "Salary     10\n",
       "dtype: int64"
      ]
     },
     "execution_count": 85,
     "metadata": {},
     "output_type": "execute_result"
    }
   ],
   "source": [
    "a"
   ]
  },
  {
   "cell_type": "code",
   "execution_count": 86,
   "id": "590d5b94",
   "metadata": {},
   "outputs": [
    {
     "data": {
      "text/plain": [
       "Name      12.2\n",
       "Age        6.9\n",
       "Salary     1.0\n",
       "dtype: float64"
      ]
     },
     "execution_count": 86,
     "metadata": {},
     "output_type": "execute_result"
    }
   ],
   "source": [
    "a/10"
   ]
  },
  {
   "cell_type": "code",
   "execution_count": 87,
   "id": "6ad0138a",
   "metadata": {},
   "outputs": [],
   "source": [
    "# Performing exponentiation"
   ]
  },
  {
   "cell_type": "code",
   "execution_count": 94,
   "id": "671caa88",
   "metadata": {},
   "outputs": [
    {
     "data": {
      "text/plain": [
       "Name      14884\n",
       "Age        4761\n",
       "Salary      100\n",
       "dtype: int64"
      ]
     },
     "execution_count": 94,
     "metadata": {},
     "output_type": "execute_result"
    }
   ],
   "source": [
    "a ** 2    # can only be performed on pd object not on dictionary"
   ]
  },
  {
   "cell_type": "code",
   "execution_count": 96,
   "id": "687e0829",
   "metadata": {},
   "outputs": [],
   "source": [
    "# Performing isnull() operation"
   ]
  },
  {
   "cell_type": "code",
   "execution_count": 97,
   "id": "7ca523cf",
   "metadata": {},
   "outputs": [
    {
     "data": {
      "text/plain": [
       "Name      False\n",
       "Age       False\n",
       "Salary    False\n",
       "dtype: bool"
      ]
     },
     "execution_count": 97,
     "metadata": {},
     "output_type": "execute_result"
    }
   ],
   "source": [
    "a.isnull()"
   ]
  },
  {
   "cell_type": "code",
   "execution_count": null,
   "id": "fcce05d3",
   "metadata": {},
   "outputs": [],
   "source": []
  }
 ],
 "metadata": {
  "kernelspec": {
   "display_name": "Python 3 (ipykernel)",
   "language": "python",
   "name": "python3"
  },
  "language_info": {
   "codemirror_mode": {
    "name": "ipython",
    "version": 3
   },
   "file_extension": ".py",
   "mimetype": "text/x-python",
   "name": "python",
   "nbconvert_exporter": "python",
   "pygments_lexer": "ipython3",
   "version": "3.10.9"
  }
 },
 "nbformat": 4,
 "nbformat_minor": 5
}
